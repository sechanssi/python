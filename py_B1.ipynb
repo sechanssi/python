{
  "nbformat": 4,
  "nbformat_minor": 0,
  "metadata": {
    "colab": {
      "provenance": [],
      "authorship_tag": "ABX9TyMfLCKuy7c5BogB+1UZGMB+",
      "include_colab_link": true
    },
    "kernelspec": {
      "name": "python3",
      "display_name": "Python 3"
    },
    "language_info": {
      "name": "python"
    }
  },
  "cells": [
    {
      "cell_type": "markdown",
      "metadata": {
        "id": "view-in-github",
        "colab_type": "text"
      },
      "source": [
        "<a href=\"https://colab.research.google.com/github/sechanssi/python/blob/main/py_B1.ipynb\" target=\"_parent\"><img src=\"https://colab.research.google.com/assets/colab-badge.svg\" alt=\"Open In Colab\"/></a>"
      ]
    },
    {
      "cell_type": "markdown",
      "source": [
        "# CH1 파이썬 문법"
      ],
      "metadata": {
        "id": "pFWZPxWph16l"
      }
    },
    {
      "cell_type": "markdown",
      "source": [
        "## 자료형\n",
        "#### 숫자형\n",
        "정수 : 123.-20. 0  \n",
        "실수 : 123.45.-4321.5. 6.08e9  \n",
        "8진수 : 0o456. 0o123  \n",
        "16진수 : 0xFF. 0x00. 0x0A "
      ],
      "metadata": {
        "id": "YvfZxIEnivcf"
      }
    },
    {
      "cell_type": "markdown",
      "source": [
        "#### 변수\n",
        "* 문자 또는 밑줄로 시작(beta,_kim)\n",
        "* 대소문자를 구분한다.(sum, Sum, SUM)\n",
        "* 영문자, 숫자, 밑줄(a-z, 0-9,_)\n",
        "* 파이썬 키워드는 사용 불가"
      ],
      "metadata": {
        "id": "q1zWqxqfoT6W"
      }
    },
    {
      "cell_type": "code",
      "source": [
        "a = 10\n",
        "b = 20\n",
        "c = a + b\n",
        "print(c)"
      ],
      "metadata": {
        "colab": {
          "base_uri": "https://localhost:8080/"
        },
        "id": "oah68qxFjiFI",
        "outputId": "9115c63a-6a35-4c32-b267-de0550524820"
      },
      "execution_count": null,
      "outputs": [
        {
          "output_type": "stream",
          "name": "stdout",
          "text": [
            "30\n"
          ]
        }
      ]
    },
    {
      "cell_type": "code",
      "source": [
        "a = 52\n",
        "b = 10\n",
        "c = a/b # 나눗셈\n",
        "d = a-b\n",
        "e = a*b\n",
        "f = a//b # 몫\n",
        "g = a%b # 나머지\n",
        "print(c,d,e,f,g)"
      ],
      "metadata": {
        "colab": {
          "base_uri": "https://localhost:8080/"
        },
        "id": "4722vHv0ktg9",
        "outputId": "3cef09f4-3ec3-42ef-908b-131c785eb2a7"
      },
      "execution_count": null,
      "outputs": [
        {
          "output_type": "stream",
          "name": "stdout",
          "text": [
            "5.2 42 520 5 2\n"
          ]
        }
      ]
    },
    {
      "cell_type": "code",
      "source": [
        "from binascii import b2a_base64\n",
        "a = 10\n",
        "b = 2\n",
        "# 나눗셈\n",
        "c = a/b\n",
        "d = a//b\n",
        "e = a%b\n",
        "f = a*b\n",
        "g = a**b\n",
        "print(c,b,e,f,g)"
      ],
      "metadata": {
        "colab": {
          "base_uri": "https://localhost:8080/"
        },
        "id": "LGN-ohQsmXX5",
        "outputId": "a7d75baf-b8ef-4120-fa16-c84d4e54a0b6"
      },
      "execution_count": null,
      "outputs": [
        {
          "output_type": "stream",
          "name": "stdout",
          "text": [
            "5.0 2 0 20 100\n"
          ]
        }
      ]
    },
    {
      "cell_type": "markdown",
      "source": [
        "#### 문자열  \n",
        "1. 큰 따옴표 : \"Hello World!\"  \n",
        "2. 작은 따옴표 : '대한민국'  \n",
        "3. 큰 따옴표 3개 : \"\"\"hello!\"\"\" \n",
        "4. 작은 따옴표 3개 : \n",
        "'''나랏 말쌓미 뒹궐에 다라  \n",
        "   엔터도 먹음'''\n"
      ],
      "metadata": {
        "id": "-r5uaBxZm38z"
      }
    },
    {
      "cell_type": "code",
      "source": [
        "myName = \"Kim\" # 카멜\n",
        "my_name = \"김\" # 스네이크\n",
        "MyName = \"kk\" # 파스칼\n",
        "_my_name = \"kim\"\n",
        "MYNAME = \"Kim\"\n",
        "my2name = \"123kim\"\n",
        "# 숫자 마이너스 스페이스바 안됨\n",
        "myStr = '123' # str\n",
        "myNum = 123 # int\n",
        "\n",
        "print(myStr, myNum)\n",
        "print(type(myStr))\n",
        "print(type(myNum))"
      ],
      "metadata": {
        "colab": {
          "base_uri": "https://localhost:8080/"
        },
        "id": "7HF3GlyIoEwj",
        "outputId": "c1e89ee2-0665-4a4f-a86a-a49e74ced8c5"
      },
      "execution_count": null,
      "outputs": [
        {
          "output_type": "stream",
          "name": "stdout",
          "text": [
            "123 123\n",
            "<class 'str'>\n",
            "<class 'int'>\n"
          ]
        }
      ]
    },
    {
      "cell_type": "markdown",
      "source": [
        "#### 여러개 변수 할당"
      ],
      "metadata": {
        "id": "O8Vgfo0rv93z"
      }
    },
    {
      "cell_type": "code",
      "source": [
        "x,y,z = \"포도\",\"딸기\",\"수박\"\n",
        "print(x)\n",
        "print(y)\n",
        "print(z)"
      ],
      "metadata": {
        "colab": {
          "base_uri": "https://localhost:8080/"
        },
        "id": "Z783DTQ9wC8o",
        "outputId": "0bb82a76-0b91-4cc8-c1c5-fdc07fe18179"
      },
      "execution_count": null,
      "outputs": [
        {
          "output_type": "stream",
          "name": "stdout",
          "text": [
            "포도\n",
            "딸기\n",
            "수박\n"
          ]
        }
      ]
    },
    {
      "cell_type": "code",
      "source": [
        "a = b = c = \"오렌지\"\n",
        "print(a)\n",
        "print(b)\n",
        "print(c)"
      ],
      "metadata": {
        "colab": {
          "base_uri": "https://localhost:8080/"
        },
        "id": "c93DkGqUwf2i",
        "outputId": "884bfad0-22a1-4569-c9c3-cf7e301ef1be"
      },
      "execution_count": null,
      "outputs": [
        {
          "output_type": "stream",
          "name": "stdout",
          "text": [
            "오렌지\n",
            "오렌지\n",
            "오렌지\n"
          ]
        }
      ]
    },
    {
      "cell_type": "code",
      "source": [
        "fruits = [\"포도\",\"딸기\",\"수박\"]\n",
        "x,y,z = fruits\n",
        "print(x)\n",
        "print(y)\n",
        "print(z)"
      ],
      "metadata": {
        "colab": {
          "base_uri": "https://localhost:8080/"
        },
        "id": "f5tC8Iubw6Ai",
        "outputId": "b20f08b0-53b1-427d-9a16-e600457dca39"
      },
      "execution_count": null,
      "outputs": [
        {
          "output_type": "stream",
          "name": "stdout",
          "text": [
            "포도\n",
            "딸기\n",
            "수박\n"
          ]
        }
      ]
    },
    {
      "cell_type": "code",
      "source": [
        "x = \"life\"\n",
        "y = \"is\"\n",
        "z = \"beautiful\"\n",
        "print(x,y,z)\n",
        "print(x+y+z)"
      ],
      "metadata": {
        "colab": {
          "base_uri": "https://localhost:8080/"
        },
        "id": "Pv5mRRYWxrOW",
        "outputId": "42a184fe-20e6-46cd-d4e0-0dc8884feeaa"
      },
      "execution_count": null,
      "outputs": [
        {
          "output_type": "stream",
          "name": "stdout",
          "text": [
            "life is beautiful\n",
            "lifeisbeautiful\n"
          ]
        }
      ]
    },
    {
      "cell_type": "code",
      "source": [
        "a = 1\n",
        "b = 2\n",
        "c = 3\n",
        "print(a,b,c)\n",
        "print(a+b+c)"
      ],
      "metadata": {
        "colab": {
          "base_uri": "https://localhost:8080/"
        },
        "id": "wNgHu_DdyNPJ",
        "outputId": "192ac78a-9404-4a15-f89d-b5f56311b8f6"
      },
      "execution_count": null,
      "outputs": [
        {
          "output_type": "stream",
          "name": "stdout",
          "text": [
            "1 2 3\n",
            "6\n"
          ]
        }
      ]
    },
    {
      "cell_type": "markdown",
      "source": [
        "#### 데이터 유형\n",
        "+ 텍스트\n",
        "+ 숫자\n",
        "+ 불 (bool)"
      ],
      "metadata": {
        "id": "_eAq03fQyyH1"
      }
    },
    {
      "cell_type": "code",
      "source": [
        "a = 100\n",
        "b = 200\n",
        "sum = a + b\n",
        "print(a,'+', b, '=', sum)\n",
        "\n",
        "sum = a - b\n",
        "print(a, '-', b, '=', sum)\n",
        "\n",
        "sum = a * b\n",
        "print(a, '*', b, '=', sum)\n",
        "\n",
        "sum = a / b\n",
        "print(a, '/', b, '=', sum)"
      ],
      "metadata": {
        "colab": {
          "base_uri": "https://localhost:8080/"
        },
        "id": "ZLn3a0qHzN8e",
        "outputId": "c5d5a453-82d6-41dd-d35e-947ad77129f5"
      },
      "execution_count": null,
      "outputs": [
        {
          "output_type": "stream",
          "name": "stdout",
          "text": [
            "100 + 200 = 300\n",
            "100 - 200 = -100\n",
            "100 * 200 = 20000\n",
            "100 / 200 = 0.5\n"
          ]
        }
      ]
    },
    {
      "cell_type": "markdown",
      "source": [
        "#### input() 함수를 이용한 계산기"
      ],
      "metadata": {
        "id": "7xh0q2CdAb-E"
      }
    },
    {
      "cell_type": "code",
      "source": [
        "a = int(input(\"첫 번째 수를 입력하세요: \"))\n",
        "b = int(input(\"두 번째 수를 입력하세요: \"))\n",
        "result = a + b\n",
        "print(a,'+', b, '=', result)\n",
        "\n",
        "result = a - b\n",
        "print(a, '-', b, '=', result)\n",
        "\n",
        "result = a * b\n",
        "print(a, '*', b, '=', result)\n",
        "\n",
        "result = a / b\n",
        "print(a, '/', b, '=', result)\n",
        "# 제곱, 몫, 나머지\n",
        "result = a ** b\n",
        "print(a, '**', b, '=', result)\n",
        "\n",
        "result = a // b\n",
        "print(a, '//', b, '=', result)\n",
        "\n",
        "result = a % b\n",
        "print(a, '%', b, '=', result)"
      ],
      "metadata": {
        "colab": {
          "base_uri": "https://localhost:8080/"
        },
        "id": "-QxIUkXNAoHX",
        "outputId": "d8edeca9-88b3-4f8b-d4ef-e2b47196c23a"
      },
      "execution_count": null,
      "outputs": [
        {
          "output_type": "stream",
          "name": "stdout",
          "text": [
            "첫 번째 수를 입력하세요: 12\n",
            "두 번째 수를 입력하세요: 12\n",
            "12 + 12 = 24\n",
            "12 - 12 = 0\n",
            "12 * 12 = 144\n",
            "12 / 12 = 1.0\n",
            "12 ** 12 = 8916100448256\n",
            "12 // 12 = 1\n",
            "12 % 12 = 0\n"
          ]
        }
      ]
    },
    {
      "cell_type": "code",
      "source": [
        "num1 = input(\"숫자입력1: \")\n",
        "num2 = input(\"숫자입력2: \")\n",
        "result = num1 + num2\n",
        "print(type(num1))\n",
        "print(num1,'+', num2, '=', result)"
      ],
      "metadata": {
        "colab": {
          "base_uri": "https://localhost:8080/"
        },
        "id": "rJA5z7Q5Dflf",
        "outputId": "f3cef385-98eb-409e-c487-929cfc495df0"
      },
      "execution_count": null,
      "outputs": [
        {
          "output_type": "stream",
          "name": "stdout",
          "text": [
            "숫자입력1: 100\n",
            "숫자입력2: 100\n",
            "<class 'str'>\n",
            "100 + 100 = 100100\n"
          ]
        }
      ]
    },
    {
      "cell_type": "code",
      "source": [
        "name = input(\"이름을 입력하세요: \")\n",
        "phone_num = input(\"전화번호를 입력하세요: \")\n",
        "weight = int(input(\"무게를 입력하세요(g): \"))\n",
        "\n",
        "price = weight * 10\n",
        "\n",
        "print(\"이름:\", name)\n",
        "print(\"전화번호:\", phone_num)\n",
        "print(\"무게(g):\", weight)\n",
        "print(\"배송비:\", price, \"원\")\n"
      ],
      "metadata": {
        "colab": {
          "base_uri": "https://localhost:8080/"
        },
        "id": "K4bEYqo1EVkI",
        "outputId": "748560fb-15bc-4fea-a710-102810eaffb9"
      },
      "execution_count": null,
      "outputs": [
        {
          "output_type": "stream",
          "name": "stdout",
          "text": [
            "이름을 입력하세요: 김세찬\n",
            "전화번호를 입력하세요: 020\n",
            "무게를 입력하세요(g): 20\n",
            "이름: 김세찬\n",
            "전화번호: 020\n",
            "무게(g): 20\n",
            "배송비: 200 원\n"
          ]
        }
      ]
    },
    {
      "cell_type": "markdown",
      "source": [
        "#### 2. print() 서식 출력"
      ],
      "metadata": {
        "id": "juZ9AJrVilbu"
      }
    },
    {
      "cell_type": "code",
      "source": [
        "print( \"%d \" % 123)\n",
        "print( \"%5d \" % 123)\n",
        "print( \"%05d \" % 123)\n",
        "\n",
        "print( \"%f \" % 123.45)\n",
        "print( \"%7.1f \" % 123.45)\n",
        "print( \"%7.3f \" % 123.45)\n",
        "\n",
        "print( \"%s \" % \"대한민국\")\n",
        "print( \"%8s \" % \"대한민국\")"
      ],
      "metadata": {
        "colab": {
          "base_uri": "https://localhost:8080/"
        },
        "id": "JK_kMNOIirRz",
        "outputId": "ae68f9ad-9c5a-415d-b402-b2d387e2e618"
      },
      "execution_count": null,
      "outputs": [
        {
          "output_type": "stream",
          "name": "stdout",
          "text": [
            "123 \n",
            "  123 \n",
            "00123 \n",
            "123.450000 \n",
            "  123.5 \n",
            "123.450 \n",
            "대한민국 \n",
            "    대한민국 \n"
          ]
        }
      ]
    },
    {
      "cell_type": "code",
      "source": [
        "print( \"{0:d} {1:5d} {2:05d}\".format(123,456,789))"
      ],
      "metadata": {
        "colab": {
          "base_uri": "https://localhost:8080/"
        },
        "id": "HLz79uV3k4-b",
        "outputId": "6171b803-4c7f-4535-cfbd-ced979ff1a79"
      },
      "execution_count": null,
      "outputs": [
        {
          "output_type": "stream",
          "name": "stdout",
          "text": [
            "123   456 00789\n"
          ]
        }
      ]
    },
    {
      "cell_type": "code",
      "source": [
        "print( \"{2:d} {1:5d} {0:05d}\".format(123,456,789))"
      ],
      "metadata": {
        "colab": {
          "base_uri": "https://localhost:8080/"
        },
        "id": "7xy15N7ekBxq",
        "outputId": "480bc5bf-03d1-434c-9b28-11574a67c654"
      },
      "execution_count": null,
      "outputs": [
        {
          "output_type": "stream",
          "name": "stdout",
          "text": [
            "789   456 00123\n"
          ]
        }
      ]
    },
    {
      "cell_type": "markdown",
      "source": [
        "### 서식 출력"
      ],
      "metadata": {
        "id": "Pn2IzKRXk9k6"
      }
    },
    {
      "cell_type": "code",
      "source": [
        "print(\"\\n줄바꿈\\n연습입니다\")"
      ],
      "metadata": {
        "colab": {
          "base_uri": "https://localhost:8080/"
        },
        "id": "qEndWwMOlFFm",
        "outputId": "4a05a364-bd63-4ed2-ee12-c50162475bc7"
      },
      "execution_count": null,
      "outputs": [
        {
          "output_type": "stream",
          "name": "stdout",
          "text": [
            "\n",
            "줄바꿈\n",
            "연습입니다\n"
          ]
        }
      ]
    },
    {
      "cell_type": "code",
      "source": [
        "print(\"\\t탭키\\t연습입니다\")"
      ],
      "metadata": {
        "colab": {
          "base_uri": "https://localhost:8080/"
        },
        "id": "cBFcVxgalbc2",
        "outputId": "c639bdb7-87d1-4b2e-964e-7fe130af3d05"
      },
      "execution_count": null,
      "outputs": [
        {
          "output_type": "stream",
          "name": "stdout",
          "text": [
            "\t탭키\t연습입니다\n"
          ]
        }
      ]
    },
    {
      "cell_type": "code",
      "source": [
        "print(\"글자가 \\\"강조\\\"되는 효과1\")\n",
        "print(\"글자가 \\'강조\\'되는 효과2\")\n",
        "print(\"역슬래시 3개 출력 \\\\\\\\\\\\\")\n",
        "print(r\"\\n \\t \\\" \\\\ \\\" @를 그대로 출력\") #그대로 출력됨"
      ],
      "metadata": {
        "colab": {
          "base_uri": "https://localhost:8080/"
        },
        "id": "pbiH09tVlgXm",
        "outputId": "534af80e-3ffa-4648-88eb-f36de219b869"
      },
      "execution_count": null,
      "outputs": [
        {
          "output_type": "stream",
          "name": "stdout",
          "text": [
            "글자가 \"강조\"되는 효과1\n",
            "글자가 '강조'되는 효과2\n",
            "역슬래시 3개 출력 \\\\\\\n",
            "\\n \\t \\\" \\\\ \\\" @를 그대로 출력\n"
          ]
        }
      ]
    },
    {
      "cell_type": "markdown",
      "source": [
        "#### 관계 연산자"
      ],
      "metadata": {
        "id": "pnjEDncIogU-"
      }
    },
    {
      "cell_type": "code",
      "source": [
        "a,b = 10,20\n",
        "print(a==b, a!=b, a>b, a<b, a>=b, a<=b)"
      ],
      "metadata": {
        "colab": {
          "base_uri": "https://localhost:8080/"
        },
        "id": "Im8Er66Monc6",
        "outputId": "1099eccf-4939-4fb3-f77d-2891f0fc12de"
      },
      "execution_count": null,
      "outputs": [
        {
          "output_type": "stream",
          "name": "stdout",
          "text": [
            "False True False True False True\n"
          ]
        }
      ]
    },
    {
      "cell_type": "code",
      "source": [
        "a = 99\n",
        "print((a>100) and (a<200))\n",
        "print((a>100) or (a<200))\n",
        "print(not(a==100))"
      ],
      "metadata": {
        "colab": {
          "base_uri": "https://localhost:8080/"
        },
        "id": "jrdMPNmWpI52",
        "outputId": "b81f3504-271c-47aa-a5f5-998dfce69792"
      },
      "execution_count": null,
      "outputs": [
        {
          "output_type": "stream",
          "name": "stdout",
          "text": [
            "False\n",
            "True\n",
            "True\n"
          ]
        }
      ]
    },
    {
      "cell_type": "code",
      "source": [
        "if(123):\n",
        "  print(\"참이면 보입니다.\")\n",
        "if(0):\n",
        "  print(\"거짓이면 안 보입니다.\")"
      ],
      "metadata": {
        "colab": {
          "base_uri": "https://localhost:8080/"
        },
        "id": "AbUDwZnipfJ_",
        "outputId": "52f6e726-1326-4813-df48-891a08260c96"
      },
      "execution_count": null,
      "outputs": [
        {
          "output_type": "stream",
          "name": "stdout",
          "text": [
            "참이면 보입니다.\n"
          ]
        }
      ]
    },
    {
      "cell_type": "markdown",
      "source": [
        "### 퀴즈2 숫자 입력을 받아 동전으로 바꿔주는 프로그램( 500원, 100원, 50원, 10원) 나머지는 거스름 돈으로 출력"
      ],
      "metadata": {
        "id": "S_4P71tXvvQG"
      }
    },
    {
      "cell_type": "code",
      "source": [
        "#변수\n",
        "bill, c500, c100, c50, c10 = 0,0,0,0,0\n",
        "bill = int(input(\"바꿀돈은?\"))\n",
        "\n",
        "c500 = bill // 500 # 몫\n",
        "bill %= 500 # bill = bill % 500\n",
        "c100 = bill // 100\n",
        "bill %= 100\n",
        "c50 = bill // 50\n",
        "bill %= 50\n",
        "c10 %= bill // 10\n",
        "bill %= 10\n",
        "\n",
        "print(\"500원짜리 : %d개\" % c500)\n",
        "print(\"100원짜리 : %d개\" % c100)\n",
        "print(\"50원짜리 : %d개\" % c50)\n",
        "print(\"10원짜리 : %d개\" % c10)\n",
        "print(\"잔돈 %d원\" % bill)"
      ],
      "metadata": {
        "colab": {
          "base_uri": "https://localhost:8080/"
        },
        "id": "9B0vFzuXv7j5",
        "outputId": "8f67ab6e-f390-4562-9ba1-9831dbcc6b9e"
      },
      "execution_count": null,
      "outputs": [
        {
          "output_type": "stream",
          "name": "stdout",
          "text": [
            "바꿀돈은?111\n",
            "500원짜리 : 0개\n",
            "100원짜리 : 1개\n",
            "50원짜리 : 0개\n",
            "10원짜리 : 0개\n",
            "잔돈 1원\n"
          ]
        }
      ]
    },
    {
      "cell_type": "markdown",
      "source": [
        "#### 조건문"
      ],
      "metadata": {
        "id": "LYY1xHRv1Nb4"
      }
    },
    {
      "cell_type": "code",
      "source": [
        "a = 2000\n",
        "if(a<100):\n",
        "  print(\"100보다 작음\")\n",
        "else : \n",
        "  print(\"100보다 크다\")\n",
        "print(\"프로그램 끝\")"
      ],
      "metadata": {
        "colab": {
          "base_uri": "https://localhost:8080/"
        },
        "id": "3iRy5TVG1QVc",
        "outputId": "dd5fb108-85a8-4dfd-b994-039ca6c32b9e"
      },
      "execution_count": null,
      "outputs": [
        {
          "output_type": "stream",
          "name": "stdout",
          "text": [
            "100보다 크다\n",
            "프로그램 끝\n"
          ]
        }
      ]
    },
    {
      "cell_type": "code",
      "source": [
        "#짝수 홀수 구분\n",
        "a = int(input(\"정수를 입력하시오 : \"))\n",
        "if(a % 2 == 0):\n",
        "  print(\"짝수\")\n",
        "else :\n",
        "  print(\"홀수\")"
      ],
      "metadata": {
        "colab": {
          "base_uri": "https://localhost:8080/"
        },
        "id": "XWA1Olb22Mp9",
        "outputId": "ebb7376e-d675-4fe0-e292-66b27179f9eb"
      },
      "execution_count": null,
      "outputs": [
        {
          "output_type": "stream",
          "name": "stdout",
          "text": [
            "정수를 입력하시오 : 3\n",
            "홀수\n"
          ]
        }
      ]
    },
    {
      "cell_type": "code",
      "source": [
        "a = 120\n",
        "if(a > 50):\n",
        "  if(a<100):\n",
        "    print(\"50<a<100\")\n",
        "  else:\n",
        "    print(\"a>100\")\n",
        "else:\n",
        "  print(\"a<50\")"
      ],
      "metadata": {
        "colab": {
          "base_uri": "https://localhost:8080/"
        },
        "id": "GbL6JJ3h29rQ",
        "outputId": "a32b86c8-1b02-48f0-e9e7-2fb110490b75"
      },
      "execution_count": null,
      "outputs": [
        {
          "output_type": "stream",
          "name": "stdout",
          "text": [
            "a>100\n"
          ]
        }
      ]
    },
    {
      "cell_type": "code",
      "source": [
        "fruit = [\"사과\", \"배\", \"감\", \"포도\"]\n",
        "fruit.append(\"딸기\")\n",
        "if \"딸기\" not in fruit :\n",
        "  print(\"딸기가 있습니다\")\n",
        "  print(\"딸기가 없습니다\")\n",
        "print(fruit)"
      ],
      "metadata": {
        "colab": {
          "base_uri": "https://localhost:8080/"
        },
        "id": "pYBkrrCA7Zn5",
        "outputId": "385cd768-6a9d-4540-bbc9-5bc1f960502e"
      },
      "execution_count": null,
      "outputs": [
        {
          "output_type": "stream",
          "name": "stdout",
          "text": [
            "['사과', '배', '감', '포도', '딸기']\n"
          ]
        }
      ]
    },
    {
      "cell_type": "code",
      "source": [
        "import random\n",
        "number = []\n",
        "for num in range(0,10):\n",
        "  number .append(random.randrange(0,10))\n",
        "print(\"생성된 리스트\", number)"
      ],
      "metadata": {
        "colab": {
          "base_uri": "https://localhost:8080/"
        },
        "id": "xN3_q7rG9CA3",
        "outputId": "0b867187-6019-4249-8988-6e0d003ba3f2"
      },
      "execution_count": null,
      "outputs": [
        {
          "output_type": "stream",
          "name": "stdout",
          "text": [
            "생성된 리스트 [0, 0, 3, 5, 2, 4, 2, 2, 5, 0]\n"
          ]
        }
      ]
    },
    {
      "cell_type": "markdown",
      "source": [
        "#### 반복문"
      ],
      "metadata": {
        "id": "Jc1sYy5l-eHM"
      }
    },
    {
      "cell_type": "code",
      "source": [
        "for i in range(0,3,1):\n",
        "  print(\"안녕하세요~\")\n",
        "print(\"반갑~\")"
      ],
      "metadata": {
        "colab": {
          "base_uri": "https://localhost:8080/"
        },
        "id": "qA-Y2Cyz-f1q",
        "outputId": "1f83f6eb-97f0-40d1-d68f-d94c64418109"
      },
      "execution_count": null,
      "outputs": [
        {
          "output_type": "stream",
          "name": "stdout",
          "text": [
            "안녕하세요~\n",
            "안녕하세요~\n",
            "안녕하세요~\n",
            "반갑~\n"
          ]
        }
      ]
    },
    {
      "cell_type": "code",
      "source": [
        "for i in range(1,9,1):\n",
        "    print(\"%d\" % i, end=\"  \")\n",
        "for i in range(1,9,1):\n",
        "    print(\"\\n%d\" % i, end=\"  \")"
      ],
      "metadata": {
        "colab": {
          "base_uri": "https://localhost:8080/"
        },
        "id": "HdI5C77y_zBH",
        "outputId": "b59b8bd4-23cd-44b9-e84a-75e22a1ba81a"
      },
      "execution_count": null,
      "outputs": [
        {
          "output_type": "stream",
          "name": "stdout",
          "text": [
            "1  2  3  4  5  6  7  8  \n",
            "1  \n",
            "2  \n",
            "3  \n",
            "4  \n",
            "5  \n",
            "6  \n",
            "7  \n",
            "8  "
          ]
        }
      ]
    },
    {
      "cell_type": "code",
      "source": [
        "sum=0\n",
        "for i in range(1,11,1):\n",
        "  sum = sum + i\n",
        "print(\"1~10까지 합계 : %d\" % sum)"
      ],
      "metadata": {
        "colab": {
          "base_uri": "https://localhost:8080/"
        },
        "id": "pC-iWn6VA5y2",
        "outputId": "19175991-550e-4e9f-bcb1-0d2654079ccd"
      },
      "execution_count": null,
      "outputs": [
        {
          "output_type": "stream",
          "name": "stdout",
          "text": [
            "1~10까지 합계 : 55\n"
          ]
        }
      ]
    },
    {
      "cell_type": "markdown",
      "source": [
        "#### 퀴즈3 : 숫자 입력을 받아 1부터 입력된 숫자까지의 합을 for문을 활용하여 출력하시오."
      ],
      "metadata": {
        "id": "PH9cO91oB7Xy"
      }
    },
    {
      "cell_type": "code",
      "source": [
        "sum=0\n",
        "num = int(input(\"숫자입력 : \"))\n",
        "for i in range(1,num,1):\n",
        "  sum = sum + i\n",
        "print(\"1~n까지 합계 : %d\" % sum)"
      ],
      "metadata": {
        "colab": {
          "base_uri": "https://localhost:8080/"
        },
        "id": "RB1_upKgCNwu",
        "outputId": "c24027af-73e7-407d-8822-83e1f461bdb5"
      },
      "execution_count": null,
      "outputs": [
        {
          "output_type": "stream",
          "name": "stdout",
          "text": [
            "숫자입력 : 12\n",
            "1~n까지 합계 : 66\n"
          ]
        }
      ]
    },
    {
      "cell_type": "markdown",
      "source": [
        "#### 중첩 for문"
      ],
      "metadata": {
        "id": "5aPxNRvYDj8y"
      }
    },
    {
      "cell_type": "code",
      "source": [
        "i,j,k=0,0,0\n",
        "k = int(input(\"구구단수 입력 : \"))\n",
        "for i in range(1,10,1):\n",
        "  print(\"%d x %d = %2d\" % (k,i,k*i))\n",
        "print(\"\")"
      ],
      "metadata": {
        "colab": {
          "base_uri": "https://localhost:8080/"
        },
        "id": "aw2zZHleDmui",
        "outputId": "f12085ea-2441-4a9a-9d3a-6469ca6c738e"
      },
      "execution_count": null,
      "outputs": [
        {
          "output_type": "stream",
          "name": "stdout",
          "text": [
            "구구단수 입력 : 9\n",
            "9 x 1 =  9\n",
            "9 x 2 = 18\n",
            "9 x 3 = 27\n",
            "9 x 4 = 36\n",
            "9 x 5 = 45\n",
            "9 x 6 = 54\n",
            "9 x 7 = 63\n",
            "9 x 8 = 72\n",
            "9 x 9 = 81\n",
            "\n"
          ]
        }
      ]
    },
    {
      "cell_type": "code",
      "source": [
        "for i in range(2, 10):\n",
        "    for j in range(1, 10):\n",
        "        print(\"%d x %d = %2d\" % (i, j, i*j))\n",
        "    print()"
      ],
      "metadata": {
        "colab": {
          "base_uri": "https://localhost:8080/"
        },
        "id": "0Av13TlCFlse",
        "outputId": "fcd6bcbf-e17c-4cb7-e0e6-7db1506033d2"
      },
      "execution_count": null,
      "outputs": [
        {
          "output_type": "stream",
          "name": "stdout",
          "text": [
            "2 x 1 =  2\n",
            "2 x 2 =  4\n",
            "2 x 3 =  6\n",
            "2 x 4 =  8\n",
            "2 x 5 = 10\n",
            "2 x 6 = 12\n",
            "2 x 7 = 14\n",
            "2 x 8 = 16\n",
            "2 x 9 = 18\n",
            "\n",
            "3 x 1 =  3\n",
            "3 x 2 =  6\n",
            "3 x 3 =  9\n",
            "3 x 4 = 12\n",
            "3 x 5 = 15\n",
            "3 x 6 = 18\n",
            "3 x 7 = 21\n",
            "3 x 8 = 24\n",
            "3 x 9 = 27\n",
            "\n",
            "4 x 1 =  4\n",
            "4 x 2 =  8\n",
            "4 x 3 = 12\n",
            "4 x 4 = 16\n",
            "4 x 5 = 20\n",
            "4 x 6 = 24\n",
            "4 x 7 = 28\n",
            "4 x 8 = 32\n",
            "4 x 9 = 36\n",
            "\n",
            "5 x 1 =  5\n",
            "5 x 2 = 10\n",
            "5 x 3 = 15\n",
            "5 x 4 = 20\n",
            "5 x 5 = 25\n",
            "5 x 6 = 30\n",
            "5 x 7 = 35\n",
            "5 x 8 = 40\n",
            "5 x 9 = 45\n",
            "\n",
            "6 x 1 =  6\n",
            "6 x 2 = 12\n",
            "6 x 3 = 18\n",
            "6 x 4 = 24\n",
            "6 x 5 = 30\n",
            "6 x 6 = 36\n",
            "6 x 7 = 42\n",
            "6 x 8 = 48\n",
            "6 x 9 = 54\n",
            "\n",
            "7 x 1 =  7\n",
            "7 x 2 = 14\n",
            "7 x 3 = 21\n",
            "7 x 4 = 28\n",
            "7 x 5 = 35\n",
            "7 x 6 = 42\n",
            "7 x 7 = 49\n",
            "7 x 8 = 56\n",
            "7 x 9 = 63\n",
            "\n",
            "8 x 1 =  8\n",
            "8 x 2 = 16\n",
            "8 x 3 = 24\n",
            "8 x 4 = 32\n",
            "8 x 5 = 40\n",
            "8 x 6 = 48\n",
            "8 x 7 = 56\n",
            "8 x 8 = 64\n",
            "8 x 9 = 72\n",
            "\n",
            "9 x 1 =  9\n",
            "9 x 2 = 18\n",
            "9 x 3 = 27\n",
            "9 x 4 = 36\n",
            "9 x 5 = 45\n",
            "9 x 6 = 54\n",
            "9 x 7 = 63\n",
            "9 x 8 = 72\n",
            "9 x 9 = 81\n",
            "\n"
          ]
        }
      ]
    },
    {
      "cell_type": "markdown",
      "source": [
        "#### 퀴즈 구구단을 2,3,4,5 출력 후 줄바꿔서 출력하시오."
      ],
      "metadata": {
        "id": "KUJyXltiGANy"
      }
    },
    {
      "cell_type": "code",
      "source": [
        "a,b=0,0\n",
        "for a in range(1, 10, 1):\n",
        "    for b in range(2, 6,1):\n",
        "      print(\"%d x %d = %2d\" % (a, b, a*b), end=\"\\t\")\n",
        "    print(\"\")\n",
        "print(\"\\n\")  \n",
        "a,b=0,0\n",
        "for a in range(1, 10, 1):\n",
        "    for b in range(2, 6,1):\n",
        "      print(\"%d x %d = %2d\" % (a, b, a*b), end=\"\\t\")\n",
        "    print(\"\")"
      ],
      "metadata": {
        "colab": {
          "base_uri": "https://localhost:8080/"
        },
        "id": "-582ecQsGtPm",
        "outputId": "d5a56856-0f2d-4f98-8d92-c91f02b5564e"
      },
      "execution_count": null,
      "outputs": [
        {
          "output_type": "stream",
          "name": "stdout",
          "text": [
            "1 x 2 =  2\t1 x 3 =  3\t1 x 4 =  4\t1 x 5 =  5\t\n",
            "2 x 2 =  4\t2 x 3 =  6\t2 x 4 =  8\t2 x 5 = 10\t\n",
            "3 x 2 =  6\t3 x 3 =  9\t3 x 4 = 12\t3 x 5 = 15\t\n",
            "4 x 2 =  8\t4 x 3 = 12\t4 x 4 = 16\t4 x 5 = 20\t\n",
            "5 x 2 = 10\t5 x 3 = 15\t5 x 4 = 20\t5 x 5 = 25\t\n",
            "6 x 2 = 12\t6 x 3 = 18\t6 x 4 = 24\t6 x 5 = 30\t\n",
            "7 x 2 = 14\t7 x 3 = 21\t7 x 4 = 28\t7 x 5 = 35\t\n",
            "8 x 2 = 16\t8 x 3 = 24\t8 x 4 = 32\t8 x 5 = 40\t\n",
            "9 x 2 = 18\t9 x 3 = 27\t9 x 4 = 36\t9 x 5 = 45\t\n",
            "\n",
            "\n",
            "1 x 2 =  2\t1 x 3 =  3\t1 x 4 =  4\t1 x 5 =  5\t\n",
            "2 x 2 =  4\t2 x 3 =  6\t2 x 4 =  8\t2 x 5 = 10\t\n",
            "3 x 2 =  6\t3 x 3 =  9\t3 x 4 = 12\t3 x 5 = 15\t\n",
            "4 x 2 =  8\t4 x 3 = 12\t4 x 4 = 16\t4 x 5 = 20\t\n",
            "5 x 2 = 10\t5 x 3 = 15\t5 x 4 = 20\t5 x 5 = 25\t\n",
            "6 x 2 = 12\t6 x 3 = 18\t6 x 4 = 24\t6 x 5 = 30\t\n",
            "7 x 2 = 14\t7 x 3 = 21\t7 x 4 = 28\t7 x 5 = 35\t\n",
            "8 x 2 = 16\t8 x 3 = 24\t8 x 4 = 32\t8 x 5 = 40\t\n",
            "9 x 2 = 18\t9 x 3 = 27\t9 x 4 = 36\t9 x 5 = 45\t\n"
          ]
        }
      ]
    },
    {
      "cell_type": "markdown",
      "source": [
        "# ch3, 자료형\n",
        "\n",
        "## 1.인덱스와 슬라이싱"
      ],
      "metadata": {
        "id": "2REXM_TSqRU4"
      }
    },
    {
      "cell_type": "code",
      "source": [
        "L=[0,1,2,3,4,5,6,7,8,9]\n",
        "print(L[1])"
      ],
      "metadata": {
        "colab": {
          "base_uri": "https://localhost:8080/"
        },
        "id": "h20bs4yUqcQG",
        "outputId": "c4372017-a5b0-4e51-eb75-b3d566ca10d4"
      },
      "execution_count": null,
      "outputs": [
        {
          "output_type": "stream",
          "name": "stdout",
          "text": [
            "1\n"
          ]
        }
      ]
    },
    {
      "cell_type": "code",
      "source": [
        "L=[0,1,2,3,4,5,6,7,8,9]\n",
        "print(L[-1])"
      ],
      "metadata": {
        "colab": {
          "base_uri": "https://localhost:8080/"
        },
        "id": "jD0-Yb47rmZJ",
        "outputId": "a2efbe7d-476f-4dd0-ec54-474e3b88b2b5"
      },
      "execution_count": null,
      "outputs": [
        {
          "output_type": "stream",
          "name": "stdout",
          "text": [
            "9\n"
          ]
        }
      ]
    },
    {
      "cell_type": "code",
      "source": [
        "L=[0,1,2,3,4,5,6,7,8,9]\n",
        "print(L[1:4]) #1이상 4미만"
      ],
      "metadata": {
        "colab": {
          "base_uri": "https://localhost:8080/"
        },
        "id": "chzd_WVzq3Qh",
        "outputId": "73b74b21-dc2e-4088-e15b-2a5d6fbb220f"
      },
      "execution_count": null,
      "outputs": [
        {
          "output_type": "stream",
          "name": "stdout",
          "text": [
            "[1, 2, 3]\n"
          ]
        }
      ]
    },
    {
      "cell_type": "code",
      "source": [
        "L=[0,1,2,3,4,5,6,7,8,9]\n",
        "print(L[0:9:2]) #0~9까지 2칸씩 이동"
      ],
      "metadata": {
        "colab": {
          "base_uri": "https://localhost:8080/"
        },
        "id": "wK20czgLrDlG",
        "outputId": "06d00d3e-88ab-4ea1-c966-4bbdf665e5f9"
      },
      "execution_count": null,
      "outputs": [
        {
          "output_type": "stream",
          "name": "stdout",
          "text": [
            "[0, 2, 4, 6, 8]\n"
          ]
        }
      ]
    },
    {
      "cell_type": "code",
      "source": [
        "L=[0,1,2,3,4,5,6,7,8,9]\n",
        "print(len(L)) #갯수\n",
        "print(len(L)-1) "
      ],
      "metadata": {
        "colab": {
          "base_uri": "https://localhost:8080/"
        },
        "id": "m-F9-IqmrSC3",
        "outputId": "be41636e-9dce-45a6-a85b-01f5df8e02b7"
      },
      "execution_count": null,
      "outputs": [
        {
          "output_type": "stream",
          "name": "stdout",
          "text": [
            "10\n",
            "9\n"
          ]
        }
      ]
    },
    {
      "cell_type": "code",
      "source": [
        "L=[0,1,2,3,4,5,6,7,8,9]\n",
        "L[0]=99\n",
        "L[9]='가나다'\n",
        "L[1]=[1,2,3]\n",
        "print(L)\n",
        "print(L[9])"
      ],
      "metadata": {
        "colab": {
          "base_uri": "https://localhost:8080/"
        },
        "id": "s1lxO1-Kr4Q9",
        "outputId": "83c679c7-901e-4e37-ffed-e15eaddac6eb"
      },
      "execution_count": null,
      "outputs": [
        {
          "output_type": "stream",
          "name": "stdout",
          "text": [
            "[99, [1, 2, 3], 2, 3, 4, 5, 6, 7, 8, '가나다']\n",
            "가나다\n"
          ]
        }
      ]
    },
    {
      "cell_type": "code",
      "source": [
        "a = [1,2,3]\n",
        "b = [4,5,6]\n",
        "c = a+b\n",
        "print(a+b)\n",
        "print(c)\n",
        "print(a*3)"
      ],
      "metadata": {
        "colab": {
          "base_uri": "https://localhost:8080/"
        },
        "id": "IdLNWDbKsgQ1",
        "outputId": "90eefc8c-467a-4bd4-a591-946551246784"
      },
      "execution_count": null,
      "outputs": [
        {
          "output_type": "stream",
          "name": "stdout",
          "text": [
            "[1, 2, 3, 4, 5, 6]\n",
            "[1, 2, 3, 4, 5, 6]\n",
            "[1, 2, 3, 1, 2, 3, 1, 2, 3]\n"
          ]
        }
      ]
    },
    {
      "cell_type": "code",
      "source": [
        "L = [1,2,3,4,5]\n",
        "print(L)\n",
        "L.append(6)\n",
        "print(L)\n",
        "L.append(3)\n",
        "print(L)\n"
      ],
      "metadata": {
        "colab": {
          "base_uri": "https://localhost:8080/"
        },
        "id": "2Pyr91UhtRel",
        "outputId": "c01d10dd-4f62-4335-85a3-4faef4b72215"
      },
      "execution_count": null,
      "outputs": [
        {
          "output_type": "stream",
          "name": "stdout",
          "text": [
            "[1, 2, 3, 4, 5]\n",
            "[1, 2, 3, 4, 5, 6]\n",
            "[1, 2, 3, 4, 5, 6, 3]\n"
          ]
        }
      ]
    },
    {
      "cell_type": "code",
      "source": [
        "k=['a','b','b','d']\n",
        "k.remove('d')\n",
        "print(k)"
      ],
      "metadata": {
        "colab": {
          "base_uri": "https://localhost:8080/"
        },
        "id": "1bxc0iwRt4Gv",
        "outputId": "552ffb5c-1963-4720-e75e-563b5a469bb7"
      },
      "execution_count": null,
      "outputs": [
        {
          "output_type": "stream",
          "name": "stdout",
          "text": [
            "['a', 'b', 'b']\n"
          ]
        }
      ]
    },
    {
      "cell_type": "code",
      "source": [
        "k=\"God is love!\"\n",
        "print(k[:5])\n",
        "print(k[6:])\n",
        "print(k[-6:-2])"
      ],
      "metadata": {
        "colab": {
          "base_uri": "https://localhost:8080/"
        },
        "id": "YGdW6sAVwlRZ",
        "outputId": "e4dd9730-f0f6-4115-8957-3d01aec340c9"
      },
      "execution_count": null,
      "outputs": [
        {
          "output_type": "stream",
          "name": "stdout",
          "text": [
            "God i\n",
            " love!\n",
            " lov\n"
          ]
        }
      ]
    },
    {
      "cell_type": "code",
      "source": [
        "k=\"God is love!\"\n",
        "print(k.upper())\n",
        "print(k.lower())\n",
        "print(k.strip())"
      ],
      "metadata": {
        "colab": {
          "base_uri": "https://localhost:8080/"
        },
        "id": "BX4yzAa5xuGO",
        "outputId": "5780cb73-d062-4837-ceb9-cf3a4c91151a"
      },
      "execution_count": null,
      "outputs": [
        {
          "output_type": "stream",
          "name": "stdout",
          "text": [
            "GOD IS LOVE!\n",
            "god is love!\n",
            "God is love!\n"
          ]
        }
      ]
    },
    {
      "cell_type": "code",
      "source": [
        "a = \" God, is, love! \"\n",
        "print(a.split(\",\"))"
      ],
      "metadata": {
        "colab": {
          "base_uri": "https://localhost:8080/"
        },
        "id": "x4YynxMcyUys",
        "outputId": "b05f2361-2a04-4e88-8450-8324d714e19b"
      },
      "execution_count": null,
      "outputs": [
        {
          "output_type": "stream",
          "name": "stdout",
          "text": [
            "[' God', ' is', ' love! ']\n"
          ]
        }
      ]
    },
    {
      "cell_type": "code",
      "source": [
        "a=[\"apple\",\"banana\",\"cherry\"]\n",
        "a.append(\"orenge\")\n",
        "print(a)"
      ],
      "metadata": {
        "colab": {
          "base_uri": "https://localhost:8080/"
        },
        "id": "LMZe-KPBzE6N",
        "outputId": "03281abd-56fb-4fb7-ab60-8f38f9611cf6"
      },
      "execution_count": null,
      "outputs": [
        {
          "output_type": "stream",
          "name": "stdout",
          "text": [
            "['apple', 'banana', 'cherry', 'orenge']\n"
          ]
        }
      ]
    },
    {
      "cell_type": "code",
      "source": [
        "a=[\"apple\",\"banana\",\"cherry\"]\n",
        "a.insert(1,\"orange\")\n",
        "print(a)"
      ],
      "metadata": {
        "colab": {
          "base_uri": "https://localhost:8080/"
        },
        "id": "TQQdI-O0zV7A",
        "outputId": "841b5aaa-7dce-4283-a4e7-fb76e5458ee4"
      },
      "execution_count": null,
      "outputs": [
        {
          "output_type": "stream",
          "name": "stdout",
          "text": [
            "['apple', 'orange', 'banana', 'cherry']\n"
          ]
        }
      ]
    },
    {
      "cell_type": "code",
      "source": [
        "a=[\"apple\",\"banana\",\"cherry\"]\n",
        "a.remove(\"banana\")\n",
        "print(a)"
      ],
      "metadata": {
        "colab": {
          "base_uri": "https://localhost:8080/"
        },
        "id": "AD_tCe3BzxPa",
        "outputId": "3c40009e-c034-438f-ea98-919e70b5cd4e"
      },
      "execution_count": null,
      "outputs": [
        {
          "output_type": "stream",
          "name": "stdout",
          "text": [
            "['apple', 'cherry']\n"
          ]
        }
      ]
    },
    {
      "cell_type": "code",
      "source": [
        "a=[\"apple\",\"banana\",\"cherry\"]\n",
        "a.pop()\n",
        "print(a)\n",
        "a.pop(1)\n",
        "print(a)"
      ],
      "metadata": {
        "colab": {
          "base_uri": "https://localhost:8080/"
        },
        "id": "IHom0StLz-TB",
        "outputId": "8c904160-3541-4778-f1fb-8fa1c7d773f0"
      },
      "execution_count": null,
      "outputs": [
        {
          "output_type": "stream",
          "name": "stdout",
          "text": [
            "['apple', 'banana']\n",
            "['apple']\n"
          ]
        }
      ]
    },
    {
      "cell_type": "code",
      "source": [
        "a=[\"apple\",\"banana\",\"cherry\"]\n",
        "del a[0]\n",
        "print(a)\n",
        "a.clear()\n",
        "print(a)"
      ],
      "metadata": {
        "colab": {
          "base_uri": "https://localhost:8080/"
        },
        "id": "XYUBX9wz0qph",
        "outputId": "29baf023-daee-4b4d-e98f-8d6f9761e11f"
      },
      "execution_count": null,
      "outputs": [
        {
          "output_type": "stream",
          "name": "stdout",
          "text": [
            "['banana', 'cherry']\n",
            "[]\n"
          ]
        }
      ]
    },
    {
      "cell_type": "code",
      "source": [
        "fruit = [\"apple\", \"banana\", \"cherry\"]\n",
        "for i in range(len(fruit)):\n",
        "    print(i, fruit[i])\n"
      ],
      "metadata": {
        "colab": {
          "base_uri": "https://localhost:8080/"
        },
        "id": "dVmtjxln1HW6",
        "outputId": "189c8751-80f0-4ce5-ce46-23418d455532"
      },
      "execution_count": null,
      "outputs": [
        {
          "output_type": "stream",
          "name": "stdout",
          "text": [
            "0 apple\n",
            "1 banana\n",
            "2 cherry\n"
          ]
        }
      ]
    },
    {
      "cell_type": "code",
      "source": [
        "fruit = [\"apple\", \"banana\", \"cherry\"]\n",
        "for i in range(len(fruit)):\n",
        "    print(i, fruit[i])\n"
      ],
      "metadata": {
        "colab": {
          "base_uri": "https://localhost:8080/"
        },
        "id": "A_8PdudS1ns8",
        "outputId": "88fcd61b-7254-47ff-e431-1f05fe2238a2"
      },
      "execution_count": null,
      "outputs": [
        {
          "output_type": "stream",
          "name": "stdout",
          "text": [
            "0 apple\n",
            "1 banana\n",
            "2 cherry\n"
          ]
        }
      ]
    },
    {
      "cell_type": "markdown",
      "source": [
        "#### SORT"
      ],
      "metadata": {
        "id": "SFs79qwy19i-"
      }
    },
    {
      "cell_type": "code",
      "source": [
        "a = [5,3,6,8,1,9,0]\n",
        "a.sort()\n",
        "print(a)"
      ],
      "metadata": {
        "colab": {
          "base_uri": "https://localhost:8080/"
        },
        "id": "PYilnMaw2Ag7",
        "outputId": "460d29ef-9b37-4f22-b1f5-663c16209495"
      },
      "execution_count": null,
      "outputs": [
        {
          "output_type": "stream",
          "name": "stdout",
          "text": [
            "[0, 1, 3, 5, 6, 8, 9]\n"
          ]
        }
      ]
    },
    {
      "cell_type": "code",
      "source": [
        "a = [5,3,6,8,1,9,0]\n",
        "a.sort(reverse=True)\n",
        "print(a)\n",
        "a.sort()\n",
        "print(a)"
      ],
      "metadata": {
        "colab": {
          "base_uri": "https://localhost:8080/"
        },
        "id": "iJgKP_XZ3AOH",
        "outputId": "5994dd28-e0cc-4565-f257-c725ae76526a"
      },
      "execution_count": null,
      "outputs": [
        {
          "output_type": "stream",
          "name": "stdout",
          "text": [
            "[9, 8, 6, 5, 3, 1, 0]\n",
            "[0, 1, 3, 5, 6, 8, 9]\n"
          ]
        }
      ]
    },
    {
      "cell_type": "code",
      "source": [
        "fruit=[\"apple\", \"banana\", \"cherry\",\"kiwi\",\"orange\"]\n",
        "fruit.sort()\n",
        "print(fruit)\n",
        "fruit.sort(key=str.lower)\n",
        "print(fruit)\n",
        "fruit.reverse()\n",
        "print(fruit)"
      ],
      "metadata": {
        "colab": {
          "base_uri": "https://localhost:8080/"
        },
        "id": "NsFwi6Td3LuU",
        "outputId": "1edf9be0-b30b-412a-b684-f4b708ac6d79"
      },
      "execution_count": null,
      "outputs": [
        {
          "output_type": "stream",
          "name": "stdout",
          "text": [
            "['apple', 'banana', 'cherry', 'kiwi', 'orange']\n",
            "['apple', 'banana', 'cherry', 'kiwi', 'orange']\n",
            "['orange', 'kiwi', 'cherry', 'banana', 'apple']\n"
          ]
        }
      ]
    },
    {
      "cell_type": "code",
      "source": [
        "fruit=[\"apple\", \"banana\", \"cherry\",\"kiwi\",\"orange\"]\n",
        "myList=fruit.copy()\n",
        "print(myList)\n",
        "cpList=list(fruit)\n",
        "print(cpList)"
      ],
      "metadata": {
        "colab": {
          "base_uri": "https://localhost:8080/"
        },
        "id": "JvI12VNd4HuJ",
        "outputId": "90e489c8-65a4-4537-acc3-291571b5e09d"
      },
      "execution_count": null,
      "outputs": [
        {
          "output_type": "stream",
          "name": "stdout",
          "text": [
            "['apple', 'banana', 'cherry', 'kiwi', 'orange']\n",
            "['apple', 'banana', 'cherry', 'kiwi', 'orange']\n"
          ]
        }
      ]
    },
    {
      "cell_type": "markdown",
      "source": [
        "### 2. Tuple"
      ],
      "metadata": {
        "id": "9I4uiLwg5UXJ"
      }
    },
    {
      "cell_type": "code",
      "source": [
        "l=[1,2,3]\n",
        "t=(4,5,6)\n",
        "l[0]=5\n",
        "print(l)\n",
        "#t[0]=1\n",
        "print(t)"
      ],
      "metadata": {
        "colab": {
          "base_uri": "https://localhost:8080/"
        },
        "id": "fAKP02GP5ZFh",
        "outputId": "f00af375-0792-45f0-f556-e1acfb446d41"
      },
      "execution_count": null,
      "outputs": [
        {
          "output_type": "stream",
          "name": "stdout",
          "text": [
            "[5, 2, 3]\n",
            "(4, 5, 6)\n"
          ]
        }
      ]
    },
    {
      "cell_type": "code",
      "source": [
        "f=[\"apple\", \"banana\", \"cherry\",\"kiwi\",\"orange\"]\n",
        "print(len(f))"
      ],
      "metadata": {
        "colab": {
          "base_uri": "https://localhost:8080/"
        },
        "id": "MAZvttIS6KjB",
        "outputId": "fbdd8eea-f277-49f5-f4e5-86ee388778d5"
      },
      "execution_count": null,
      "outputs": [
        {
          "output_type": "stream",
          "name": "stdout",
          "text": [
            "5\n"
          ]
        }
      ]
    },
    {
      "cell_type": "code",
      "source": [
        "t=(\"apple\",)\n",
        "print(t)\n",
        "print(type(t))\n",
        "f=(\"banana\")\n",
        "print(f)\n",
        "print(type(f))"
      ],
      "metadata": {
        "colab": {
          "base_uri": "https://localhost:8080/"
        },
        "id": "MdhR2Vl96PdV",
        "outputId": "eb35e9b7-da6f-4cd3-e77e-fa63cfb45971"
      },
      "execution_count": null,
      "outputs": [
        {
          "output_type": "stream",
          "name": "stdout",
          "text": [
            "('apple',)\n",
            "<class 'tuple'>\n",
            "banana\n",
            "<class 'str'>\n"
          ]
        }
      ]
    },
    {
      "cell_type": "code",
      "source": [
        "f=(\"apple\", \"banana\", \"cherry\",\"kiwi\",\"orange\")\n",
        "print(f[:4])\n",
        "print(f[2:])"
      ],
      "metadata": {
        "colab": {
          "base_uri": "https://localhost:8080/"
        },
        "id": "pFg5O72N7gWB",
        "outputId": "61d5fd06-aabe-4c38-e39d-71825f597c34"
      },
      "execution_count": null,
      "outputs": [
        {
          "output_type": "stream",
          "name": "stdout",
          "text": [
            "('apple', 'banana', 'cherry', 'kiwi')\n",
            "('cherry', 'kiwi', 'orange')\n"
          ]
        }
      ]
    },
    {
      "cell_type": "code",
      "source": [
        "f=(\"apple\", \"banana\", \"cherry\",\"kiwi\",\"orange\")\n",
        "if \"apple\" in f:\n",
        "  print(\"Yes\", \"apple is in\")\n",
        "else:\n",
        "  print(\"no\")"
      ],
      "metadata": {
        "colab": {
          "base_uri": "https://localhost:8080/"
        },
        "id": "06kd8aCQ7oTE",
        "outputId": "369bad72-f042-424b-eda1-cdb0844001fb"
      },
      "execution_count": null,
      "outputs": [
        {
          "output_type": "stream",
          "name": "stdout",
          "text": [
            "Yes apple is in\n"
          ]
        }
      ]
    },
    {
      "cell_type": "markdown",
      "source": [
        "#### list -> tuple"
      ],
      "metadata": {
        "id": "vXx1fAOn_w0-"
      }
    },
    {
      "cell_type": "code",
      "source": [
        "firm=[\"s\",\"l\",\"k\"]\n",
        "tdata=tuple(firm)\n",
        "print(firm)\n",
        "print(tdata)"
      ],
      "metadata": {
        "colab": {
          "base_uri": "https://localhost:8080/"
        },
        "id": "1dyQS-1k_1rF",
        "outputId": "edf65d8d-f66e-4a05-dc14-9f4f5683fd9b"
      },
      "execution_count": null,
      "outputs": [
        {
          "output_type": "stream",
          "name": "stdout",
          "text": [
            "['s', 'l', 'k']\n",
            "('s', 'l', 'k')\n"
          ]
        }
      ]
    },
    {
      "cell_type": "code",
      "source": [
        "t=(\"b\",\"a\",\"k\",\"c\")\n",
        "y=list(t)\n",
        "y.append(\"o\")\n",
        "t=tuple(y)\n",
        "print(t)"
      ],
      "metadata": {
        "colab": {
          "base_uri": "https://localhost:8080/"
        },
        "id": "a9_PM9v9AiMP",
        "outputId": "af736e53-ac2d-4a4b-d58b-ebd14dd66548"
      },
      "execution_count": null,
      "outputs": [
        {
          "output_type": "stream",
          "name": "stdout",
          "text": [
            "('b', 'a', 'k', 'c', 'o')\n"
          ]
        }
      ]
    },
    {
      "cell_type": "code",
      "source": [
        "t=(\"a\",\"b\",\"c\")\n",
        "q=(\"k\",)\n",
        "t+=q\n",
        "print(t)"
      ],
      "metadata": {
        "colab": {
          "base_uri": "https://localhost:8080/"
        },
        "id": "fHAq1hi-BObt",
        "outputId": "49530105-ca35-465d-c6f0-39e0083bc9f6"
      },
      "execution_count": null,
      "outputs": [
        {
          "output_type": "stream",
          "name": "stdout",
          "text": [
            "('a', 'b', 'c', 'k')\n"
          ]
        }
      ]
    },
    {
      "cell_type": "code",
      "source": [
        "t=(\"a\",\"b\",\"c\")\n",
        "l=list(t)\n",
        "l.remove(\"a\")\n",
        "t=tuple(l)\n",
        "print(t)\n",
        "del t"
      ],
      "metadata": {
        "colab": {
          "base_uri": "https://localhost:8080/"
        },
        "id": "q8MAqsINBrOV",
        "outputId": "dc0db2ce-4c71-425b-fead-eedc2d765d34"
      },
      "execution_count": null,
      "outputs": [
        {
          "output_type": "stream",
          "name": "stdout",
          "text": [
            "('b', 'c')\n"
          ]
        }
      ]
    },
    {
      "cell_type": "markdown",
      "source": [
        "#### 3.dict 사전자료형"
      ],
      "metadata": {
        "id": "zV0_47UGEYaJ"
      }
    },
    {
      "cell_type": "code",
      "source": [
        "d={\n",
        "    'a':1,\n",
        "    'b':2,\n",
        "    'c':3\n",
        "}\n",
        "print(d)\n",
        "print(d.keys())\n",
        "print(d.values())\n",
        "print(d.items())"
      ],
      "metadata": {
        "colab": {
          "base_uri": "https://localhost:8080/"
        },
        "id": "y5hpIyEcEfbp",
        "outputId": "83bf7e92-e8fd-4a57-ab46-e328588ff39a"
      },
      "execution_count": null,
      "outputs": [
        {
          "output_type": "stream",
          "name": "stdout",
          "text": [
            "{'a': 1, 'b': 2, 'c': 3}\n",
            "dict_keys(['a', 'b', 'c'])\n",
            "dict_values([1, 2, 3])\n",
            "dict_items([('a', 1), ('b', 2), ('c', 3)])\n"
          ]
        }
      ]
    },
    {
      "cell_type": "code",
      "source": [
        "car={\n",
        "    'brand':\"bmw\",\n",
        "    \"model\":\"gt\",\n",
        "    \"year\":\"1988\"\n",
        "}\n",
        "print(car)\n",
        "print(len(car))\n",
        "car[\"year\"]=2000\n",
        "car[\"itrm\"]=1231241\n",
        "car.update({\"color\":\"red\"})\n",
        "print(car)"
      ],
      "metadata": {
        "colab": {
          "base_uri": "https://localhost:8080/"
        },
        "id": "EHiT09v9FALx",
        "outputId": "2170e234-7aad-4570-ee51-2eb9de1412c3"
      },
      "execution_count": null,
      "outputs": [
        {
          "output_type": "stream",
          "name": "stdout",
          "text": [
            "{'brand': 'bmw', 'model': 'gt', 'year': '1988'}\n",
            "3\n",
            "{'brand': 'bmw', 'model': 'gt', 'year': 2000, 'itrm': 1231241, 'color': 'red'}\n"
          ]
        }
      ]
    },
    {
      "cell_type": "code",
      "source": [
        "car={\n",
        "    'brand':\"bmw\",\n",
        "    \"model\":\"gt\",\n",
        "    \"year\":\"1988\"\n",
        "}\n",
        "car.popitem()\n",
        "print(car)"
      ],
      "metadata": {
        "colab": {
          "base_uri": "https://localhost:8080/"
        },
        "id": "tJvGpcc3Hbbs",
        "outputId": "ee17cccf-ffcc-4dea-9b6d-97565d4e4da5"
      },
      "execution_count": null,
      "outputs": [
        {
          "output_type": "stream",
          "name": "stdout",
          "text": [
            "{'brand': 'bmw', 'model': 'gt'}\n"
          ]
        }
      ]
    },
    {
      "cell_type": "code",
      "source": [
        "car={\n",
        "    'brand':\"bmw\",\n",
        "    \"model\":\"gt\",\n",
        "    \"year\":1988\n",
        "}\n",
        "car.clear()\n",
        "del car"
      ],
      "metadata": {
        "id": "nzosnD01HUIS"
      },
      "execution_count": null,
      "outputs": []
    },
    {
      "cell_type": "markdown",
      "source": [
        "#### LOOP"
      ],
      "metadata": {
        "id": "Sb3us6NKHmx2"
      }
    },
    {
      "cell_type": "code",
      "source": [
        "car={\n",
        "    'brand':\"bmw\",\n",
        "    \"model\":\"gt\",\n",
        "    \"year\":1988\n",
        "}\n",
        "for x in car.values():\n",
        "  print(x)"
      ],
      "metadata": {
        "colab": {
          "base_uri": "https://localhost:8080/"
        },
        "id": "Ubr54VDFHok2",
        "outputId": "4051732f-7dcd-4711-b641-97ff59dbfc20"
      },
      "execution_count": null,
      "outputs": [
        {
          "output_type": "stream",
          "name": "stdout",
          "text": [
            "bmw\n",
            "gt\n",
            "1988\n"
          ]
        }
      ]
    },
    {
      "cell_type": "code",
      "source": [
        "car={\n",
        "    'brand':\"bmw\",\n",
        "    \"model\":\"gt\",\n",
        "    \"year\":1988\n",
        "}\n",
        "for x in car.keys():\n",
        "  print(x)"
      ],
      "metadata": {
        "colab": {
          "base_uri": "https://localhost:8080/"
        },
        "id": "HuDvyr4BII5D",
        "outputId": "a8104ff1-54f2-46cd-8f34-8cda0736d423"
      },
      "execution_count": null,
      "outputs": [
        {
          "output_type": "stream",
          "name": "stdout",
          "text": [
            "brand\n",
            "model\n",
            "year\n"
          ]
        }
      ]
    },
    {
      "cell_type": "code",
      "source": [
        "car={\n",
        "    'brand':\"bmw\",\n",
        "    \"model\":\"gt\",\n",
        "    \"year\":1988\n",
        "}\n",
        "for x,y in car.items():\n",
        "  print(x,y)"
      ],
      "metadata": {
        "colab": {
          "base_uri": "https://localhost:8080/"
        },
        "id": "3AK2IQG-IgT8",
        "outputId": "62d89062-947f-435f-f89f-3746d93de6dd"
      },
      "execution_count": null,
      "outputs": [
        {
          "output_type": "stream",
          "name": "stdout",
          "text": [
            "brand bmw\n",
            "model gt\n",
            "year 1988\n"
          ]
        }
      ]
    },
    {
      "cell_type": "code",
      "source": [
        "car={\n",
        "    'brand':\"bmw\",\n",
        "    \"model\":\"gt\",\n",
        "    \"year\":1988\n",
        "}\n",
        "myCar=car.copy()\n",
        "print(myCar)\n"
      ],
      "metadata": {
        "colab": {
          "base_uri": "https://localhost:8080/"
        },
        "id": "ZdWnLUVOI7eR",
        "outputId": "194f8822-46b5-4dab-db1e-6accbdc2a487"
      },
      "execution_count": null,
      "outputs": [
        {
          "output_type": "stream",
          "name": "stdout",
          "text": [
            "{'brand': 'bmw', 'model': 'gt', 'year': 1988}\n"
          ]
        }
      ]
    },
    {
      "cell_type": "code",
      "source": [
        "car={\n",
        "    'brand':\"bmw\",\n",
        "    \"model\":\"gt\",\n",
        "    \"year\":1988\n",
        "}\n",
        "myCar=dict(car)\n",
        "print(myCar)"
      ],
      "metadata": {
        "colab": {
          "base_uri": "https://localhost:8080/"
        },
        "id": "6DX-sDn4JEf1",
        "outputId": "57ac8475-764a-4a3e-f056-81e01af33e51"
      },
      "execution_count": null,
      "outputs": [
        {
          "output_type": "stream",
          "name": "stdout",
          "text": [
            "{'brand': 'bmw', 'model': 'gt', 'year': 1988}\n"
          ]
        }
      ]
    },
    {
      "cell_type": "code",
      "source": [
        "name1={\"name\":\"ㅎㄱㄷ\",\"year\":2001}\n",
        "name2={\"name\":\"ㄱㄷㅇ\",\"year\":2010}\n",
        "name3={\"name\":\"ㄱㄱㄷ\",\"year\":2099}\n",
        "family={\n",
        "    \"name1\":name1,\n",
        "    \"name2\":name2,\n",
        "    \"name3\":name3\n",
        "}\n",
        "print(family)"
      ],
      "metadata": {
        "colab": {
          "base_uri": "https://localhost:8080/"
        },
        "id": "JhZRwAFzJZcs",
        "outputId": "1e8bad2a-b256-4a0f-fa69-8282ce362ecf"
      },
      "execution_count": null,
      "outputs": [
        {
          "output_type": "stream",
          "name": "stdout",
          "text": [
            "{'name1': {'name': 'ㅎㄱㄷ', 'year': 2001}, 'name2': {'name': 'ㄱㄷㅇ', 'year': 2010}, 'name3': {'name': 'ㄱㄱㄷ', 'year': 2099}}\n"
          ]
        }
      ]
    },
    {
      "cell_type": "markdown",
      "source": [
        "####ch5 파일 처리\n",
        "\"r\" read\n",
        "\"a\" append\n",
        "\"w\" write\n",
        "\"x\" create\n",
        "\"t\" text\n",
        "\"b\" binary"
      ],
      "metadata": {
        "id": "OqMWA1ertnNX"
      }
    },
    {
      "cell_type": "code",
      "source": [
        "# w\n",
        "from google.colab import files\n",
        "f = open(\"a.txt\",\"w\")\n",
        "f.write(\"12345\")\n",
        "f.close()\n",
        "f = open(\"a.txt\",\"w\")\n",
        "f.write(\"abcde\")\n",
        "f.close()\n",
        "files.download(\"a.txt\")"
      ],
      "metadata": {
        "colab": {
          "base_uri": "https://localhost:8080/",
          "height": 17
        },
        "id": "gmR5-qKQwO5m",
        "outputId": "7c84a367-b615-4438-a9aa-204d3cb08107"
      },
      "execution_count": null,
      "outputs": [
        {
          "output_type": "display_data",
          "data": {
            "text/plain": [
              "<IPython.core.display.Javascript object>"
            ],
            "application/javascript": [
              "\n",
              "    async function download(id, filename, size) {\n",
              "      if (!google.colab.kernel.accessAllowed) {\n",
              "        return;\n",
              "      }\n",
              "      const div = document.createElement('div');\n",
              "      const label = document.createElement('label');\n",
              "      label.textContent = `Downloading \"${filename}\": `;\n",
              "      div.appendChild(label);\n",
              "      const progress = document.createElement('progress');\n",
              "      progress.max = size;\n",
              "      div.appendChild(progress);\n",
              "      document.body.appendChild(div);\n",
              "\n",
              "      const buffers = [];\n",
              "      let downloaded = 0;\n",
              "\n",
              "      const channel = await google.colab.kernel.comms.open(id);\n",
              "      // Send a message to notify the kernel that we're ready.\n",
              "      channel.send({})\n",
              "\n",
              "      for await (const message of channel.messages) {\n",
              "        // Send a message to notify the kernel that we're ready.\n",
              "        channel.send({})\n",
              "        if (message.buffers) {\n",
              "          for (const buffer of message.buffers) {\n",
              "            buffers.push(buffer);\n",
              "            downloaded += buffer.byteLength;\n",
              "            progress.value = downloaded;\n",
              "          }\n",
              "        }\n",
              "      }\n",
              "      const blob = new Blob(buffers, {type: 'application/binary'});\n",
              "      const a = document.createElement('a');\n",
              "      a.href = window.URL.createObjectURL(blob);\n",
              "      a.download = filename;\n",
              "      div.appendChild(a);\n",
              "      a.click();\n",
              "      div.remove();\n",
              "    }\n",
              "  "
            ]
          },
          "metadata": {}
        },
        {
          "output_type": "display_data",
          "data": {
            "text/plain": [
              "<IPython.core.display.Javascript object>"
            ],
            "application/javascript": [
              "download(\"download_e1ae8ddf-9ffe-42c4-bf2a-efcdc377b6d8\", \"a.txt\", 5)"
            ]
          },
          "metadata": {}
        }
      ]
    },
    {
      "cell_type": "code",
      "source": [
        "from google.colab import files\n",
        "f = open(\"a.txt\",\"w\")\n",
        "f.write(\"12345\")\n",
        "f.close()\n",
        "\n",
        "f = open(\"a.txt\",\"a\")\n",
        "f.write(\"6789\")\n",
        "f.close()\n",
        "\n",
        "files.download(\"a.txt\")"
      ],
      "metadata": {
        "colab": {
          "base_uri": "https://localhost:8080/",
          "height": 17
        },
        "id": "_4r-9bjex8eY",
        "outputId": "f072d020-889f-43bf-f908-014924d48650"
      },
      "execution_count": null,
      "outputs": [
        {
          "output_type": "display_data",
          "data": {
            "text/plain": [
              "<IPython.core.display.Javascript object>"
            ],
            "application/javascript": [
              "\n",
              "    async function download(id, filename, size) {\n",
              "      if (!google.colab.kernel.accessAllowed) {\n",
              "        return;\n",
              "      }\n",
              "      const div = document.createElement('div');\n",
              "      const label = document.createElement('label');\n",
              "      label.textContent = `Downloading \"${filename}\": `;\n",
              "      div.appendChild(label);\n",
              "      const progress = document.createElement('progress');\n",
              "      progress.max = size;\n",
              "      div.appendChild(progress);\n",
              "      document.body.appendChild(div);\n",
              "\n",
              "      const buffers = [];\n",
              "      let downloaded = 0;\n",
              "\n",
              "      const channel = await google.colab.kernel.comms.open(id);\n",
              "      // Send a message to notify the kernel that we're ready.\n",
              "      channel.send({})\n",
              "\n",
              "      for await (const message of channel.messages) {\n",
              "        // Send a message to notify the kernel that we're ready.\n",
              "        channel.send({})\n",
              "        if (message.buffers) {\n",
              "          for (const buffer of message.buffers) {\n",
              "            buffers.push(buffer);\n",
              "            downloaded += buffer.byteLength;\n",
              "            progress.value = downloaded;\n",
              "          }\n",
              "        }\n",
              "      }\n",
              "      const blob = new Blob(buffers, {type: 'application/binary'});\n",
              "      const a = document.createElement('a');\n",
              "      a.href = window.URL.createObjectURL(blob);\n",
              "      a.download = filename;\n",
              "      div.appendChild(a);\n",
              "      a.click();\n",
              "      div.remove();\n",
              "    }\n",
              "  "
            ]
          },
          "metadata": {}
        },
        {
          "output_type": "display_data",
          "data": {
            "text/plain": [
              "<IPython.core.display.Javascript object>"
            ],
            "application/javascript": [
              "download(\"download_3108bdb6-11b4-4a05-873c-c62cb00841bf\", \"a.txt\", 9)"
            ]
          },
          "metadata": {}
        }
      ]
    },
    {
      "cell_type": "code",
      "source": [
        "from google.colab import files\n",
        "# 같은 이름으로 생성된 파일이 없을때 동작 (중복x)\n",
        "f = open(\"b.txt\",\"x\")\n",
        "f.write(\"abcd\")\n",
        "f.close()\n",
        "\n",
        "files.download(\"b.txt\")"
      ],
      "metadata": {
        "colab": {
          "base_uri": "https://localhost:8080/",
          "height": 17
        },
        "id": "eDgI4YeUykKY",
        "outputId": "6b6904cf-5aeb-41e3-92db-d3be782304aa"
      },
      "execution_count": null,
      "outputs": [
        {
          "output_type": "display_data",
          "data": {
            "text/plain": [
              "<IPython.core.display.Javascript object>"
            ],
            "application/javascript": [
              "\n",
              "    async function download(id, filename, size) {\n",
              "      if (!google.colab.kernel.accessAllowed) {\n",
              "        return;\n",
              "      }\n",
              "      const div = document.createElement('div');\n",
              "      const label = document.createElement('label');\n",
              "      label.textContent = `Downloading \"${filename}\": `;\n",
              "      div.appendChild(label);\n",
              "      const progress = document.createElement('progress');\n",
              "      progress.max = size;\n",
              "      div.appendChild(progress);\n",
              "      document.body.appendChild(div);\n",
              "\n",
              "      const buffers = [];\n",
              "      let downloaded = 0;\n",
              "\n",
              "      const channel = await google.colab.kernel.comms.open(id);\n",
              "      // Send a message to notify the kernel that we're ready.\n",
              "      channel.send({})\n",
              "\n",
              "      for await (const message of channel.messages) {\n",
              "        // Send a message to notify the kernel that we're ready.\n",
              "        channel.send({})\n",
              "        if (message.buffers) {\n",
              "          for (const buffer of message.buffers) {\n",
              "            buffers.push(buffer);\n",
              "            downloaded += buffer.byteLength;\n",
              "            progress.value = downloaded;\n",
              "          }\n",
              "        }\n",
              "      }\n",
              "      const blob = new Blob(buffers, {type: 'application/binary'});\n",
              "      const a = document.createElement('a');\n",
              "      a.href = window.URL.createObjectURL(blob);\n",
              "      a.download = filename;\n",
              "      div.appendChild(a);\n",
              "      a.click();\n",
              "      div.remove();\n",
              "    }\n",
              "  "
            ]
          },
          "metadata": {}
        },
        {
          "output_type": "display_data",
          "data": {
            "text/plain": [
              "<IPython.core.display.Javascript object>"
            ],
            "application/javascript": [
              "download(\"download_c0c58dfb-e28a-4daf-8e87-edcaecc43e3b\", \"b.txt\", 4)"
            ]
          },
          "metadata": {}
        }
      ]
    },
    {
      "cell_type": "code",
      "source": [
        "from google.colab import files\n",
        "# 같은 이름으로 생성된 파일이 없을때 동작 (중복x)\n",
        "f = open(\"b.txt\",\"x\")\n",
        "f.write(\"abcd\")\n",
        "f.close()\n",
        "\n",
        "files.download(\"b.txt\")"
      ],
      "metadata": {
        "colab": {
          "base_uri": "https://localhost:8080/",
          "height": 227
        },
        "id": "kZv1uIsMzDpb",
        "outputId": "fc12db61-378b-4322-aad0-51054798580e"
      },
      "execution_count": null,
      "outputs": [
        {
          "output_type": "error",
          "ename": "FileExistsError",
          "evalue": "ignored",
          "traceback": [
            "\u001b[0;31m---------------------------------------------------------------------------\u001b[0m",
            "\u001b[0;31mFileExistsError\u001b[0m                           Traceback (most recent call last)",
            "\u001b[0;32m<ipython-input-6-c3fb9b3242a7>\u001b[0m in \u001b[0;36m<cell line: 2>\u001b[0;34m()\u001b[0m\n\u001b[1;32m      1\u001b[0m \u001b[0;32mfrom\u001b[0m \u001b[0mgoogle\u001b[0m\u001b[0;34m.\u001b[0m\u001b[0mcolab\u001b[0m \u001b[0;32mimport\u001b[0m \u001b[0mfiles\u001b[0m\u001b[0;34m\u001b[0m\u001b[0;34m\u001b[0m\u001b[0m\n\u001b[0;32m----> 2\u001b[0;31m \u001b[0mf\u001b[0m \u001b[0;34m=\u001b[0m \u001b[0mopen\u001b[0m\u001b[0;34m(\u001b[0m\u001b[0;34m\"b.txt\"\u001b[0m\u001b[0;34m,\u001b[0m\u001b[0;34m\"x\"\u001b[0m\u001b[0;34m)\u001b[0m\u001b[0;34m\u001b[0m\u001b[0;34m\u001b[0m\u001b[0m\n\u001b[0m\u001b[1;32m      3\u001b[0m \u001b[0mf\u001b[0m\u001b[0;34m.\u001b[0m\u001b[0mwrite\u001b[0m\u001b[0;34m(\u001b[0m\u001b[0;34m\"abcd\"\u001b[0m\u001b[0;34m)\u001b[0m\u001b[0;34m\u001b[0m\u001b[0;34m\u001b[0m\u001b[0m\n\u001b[1;32m      4\u001b[0m \u001b[0mf\u001b[0m\u001b[0;34m.\u001b[0m\u001b[0mclose\u001b[0m\u001b[0;34m(\u001b[0m\u001b[0;34m)\u001b[0m\u001b[0;34m\u001b[0m\u001b[0;34m\u001b[0m\u001b[0m\n",
            "\u001b[0;31mFileExistsError\u001b[0m: [Errno 17] File exists: 'b.txt'"
          ]
        }
      ]
    },
    {
      "cell_type": "code",
      "source": [
        "# 여러줄 내용 입력\n",
        "from google.colab import files\n",
        "\n",
        "f = open(\"a.txt\",\"w\")\n",
        "#f.write(\"12345678\\n987654321\\nabcde\")\n",
        "f.write(\"\"\"1234\n",
        "4567\n",
        "890\"\"\")\n",
        "f.close()\n",
        "\n",
        "files.download(\"a.txt\")"
      ],
      "metadata": {
        "colab": {
          "base_uri": "https://localhost:8080/",
          "height": 17
        },
        "id": "VZkK0OeozXMj",
        "outputId": "ec924b19-1b3c-4195-c760-a43b50ca11b0"
      },
      "execution_count": null,
      "outputs": [
        {
          "output_type": "display_data",
          "data": {
            "text/plain": [
              "<IPython.core.display.Javascript object>"
            ],
            "application/javascript": [
              "\n",
              "    async function download(id, filename, size) {\n",
              "      if (!google.colab.kernel.accessAllowed) {\n",
              "        return;\n",
              "      }\n",
              "      const div = document.createElement('div');\n",
              "      const label = document.createElement('label');\n",
              "      label.textContent = `Downloading \"${filename}\": `;\n",
              "      div.appendChild(label);\n",
              "      const progress = document.createElement('progress');\n",
              "      progress.max = size;\n",
              "      div.appendChild(progress);\n",
              "      document.body.appendChild(div);\n",
              "\n",
              "      const buffers = [];\n",
              "      let downloaded = 0;\n",
              "\n",
              "      const channel = await google.colab.kernel.comms.open(id);\n",
              "      // Send a message to notify the kernel that we're ready.\n",
              "      channel.send({})\n",
              "\n",
              "      for await (const message of channel.messages) {\n",
              "        // Send a message to notify the kernel that we're ready.\n",
              "        channel.send({})\n",
              "        if (message.buffers) {\n",
              "          for (const buffer of message.buffers) {\n",
              "            buffers.push(buffer);\n",
              "            downloaded += buffer.byteLength;\n",
              "            progress.value = downloaded;\n",
              "          }\n",
              "        }\n",
              "      }\n",
              "      const blob = new Blob(buffers, {type: 'application/binary'});\n",
              "      const a = document.createElement('a');\n",
              "      a.href = window.URL.createObjectURL(blob);\n",
              "      a.download = filename;\n",
              "      div.appendChild(a);\n",
              "      a.click();\n",
              "      div.remove();\n",
              "    }\n",
              "  "
            ]
          },
          "metadata": {}
        },
        {
          "output_type": "display_data",
          "data": {
            "text/plain": [
              "<IPython.core.display.Javascript object>"
            ],
            "application/javascript": [
              "download(\"download_a79d5606-66a1-408e-9d5d-14720089ffaa\", \"a.txt\", 13)"
            ]
          },
          "metadata": {}
        }
      ]
    },
    {
      "cell_type": "code",
      "source": [
        "# read 모드로 파일 열기\n",
        "from google.colab import files\n",
        "\n",
        "f = open(\"a.txt\",\"w\")\n",
        "f.write(\"1234\")\n",
        "f.close()\n",
        "\n",
        "f = open(\"a.txt\",\"r\")\n",
        "print(f.read())\n",
        "f.close()\n",
        "\n",
        "files.download(\"a.txt\")"
      ],
      "metadata": {
        "colab": {
          "base_uri": "https://localhost:8080/",
          "height": 35
        },
        "id": "TK1WKoZH0azd",
        "outputId": "12e84f05-93ff-4a13-a8a3-34cab7ff6be8"
      },
      "execution_count": null,
      "outputs": [
        {
          "output_type": "stream",
          "name": "stdout",
          "text": [
            "1234\n"
          ]
        },
        {
          "output_type": "display_data",
          "data": {
            "text/plain": [
              "<IPython.core.display.Javascript object>"
            ],
            "application/javascript": [
              "\n",
              "    async function download(id, filename, size) {\n",
              "      if (!google.colab.kernel.accessAllowed) {\n",
              "        return;\n",
              "      }\n",
              "      const div = document.createElement('div');\n",
              "      const label = document.createElement('label');\n",
              "      label.textContent = `Downloading \"${filename}\": `;\n",
              "      div.appendChild(label);\n",
              "      const progress = document.createElement('progress');\n",
              "      progress.max = size;\n",
              "      div.appendChild(progress);\n",
              "      document.body.appendChild(div);\n",
              "\n",
              "      const buffers = [];\n",
              "      let downloaded = 0;\n",
              "\n",
              "      const channel = await google.colab.kernel.comms.open(id);\n",
              "      // Send a message to notify the kernel that we're ready.\n",
              "      channel.send({})\n",
              "\n",
              "      for await (const message of channel.messages) {\n",
              "        // Send a message to notify the kernel that we're ready.\n",
              "        channel.send({})\n",
              "        if (message.buffers) {\n",
              "          for (const buffer of message.buffers) {\n",
              "            buffers.push(buffer);\n",
              "            downloaded += buffer.byteLength;\n",
              "            progress.value = downloaded;\n",
              "          }\n",
              "        }\n",
              "      }\n",
              "      const blob = new Blob(buffers, {type: 'application/binary'});\n",
              "      const a = document.createElement('a');\n",
              "      a.href = window.URL.createObjectURL(blob);\n",
              "      a.download = filename;\n",
              "      div.appendChild(a);\n",
              "      a.click();\n",
              "      div.remove();\n",
              "    }\n",
              "  "
            ]
          },
          "metadata": {}
        },
        {
          "output_type": "display_data",
          "data": {
            "text/plain": [
              "<IPython.core.display.Javascript object>"
            ],
            "application/javascript": [
              "download(\"download_02b710cc-48ad-45f7-8a26-ea61b7603319\", \"a.txt\", 4)"
            ]
          },
          "metadata": {}
        }
      ]
    },
    {
      "cell_type": "code",
      "source": [
        "# readline() 함수 : 한줄씩 가져옴\n",
        "f = open(\"a.txt\",\"r\")\n",
        "print(f.readline())\n",
        "print(f.readline())\n",
        "f.close()"
      ],
      "metadata": {
        "colab": {
          "base_uri": "https://localhost:8080/"
        },
        "id": "kradzTSh1VV8",
        "outputId": "521f4a4b-440c-482e-e09e-bfe204f6d8dd"
      },
      "execution_count": null,
      "outputs": [
        {
          "output_type": "stream",
          "name": "stdout",
          "text": [
            "1234\n",
            "\n"
          ]
        }
      ]
    },
    {
      "cell_type": "code",
      "source": [
        "from google.colab import files\n",
        "\n",
        "import os\n",
        "if os.path.exists(\"a.txt\"):\n",
        "  os.remove(\"a.txt\")\n",
        "else:\n",
        " print(\"파일 없음\")"
      ],
      "metadata": {
        "colab": {
          "base_uri": "https://localhost:8080/"
        },
        "id": "_lwMe4b586bs",
        "outputId": "9c876929-e21b-4407-f8eb-2a38bb34e64a"
      },
      "execution_count": null,
      "outputs": [
        {
          "output_type": "stream",
          "name": "stdout",
          "text": [
            "파일 없음\n"
          ]
        }
      ]
    },
    {
      "cell_type": "code",
      "source": [
        "from google.colab import files\n",
        "import os\n",
        "\n",
        "print(os.listdir(\".\"))\n",
        "os.rename(\"b.txt\",\"a.txt\") #파일 이름 변경\n",
        "print(os.listdir(\".\"))"
      ],
      "metadata": {
        "colab": {
          "base_uri": "https://localhost:8080/"
        },
        "id": "1blYyXBJ9rAg",
        "outputId": "9e2e0970-5e7a-4fb4-dfda-5666220819ec"
      },
      "execution_count": null,
      "outputs": [
        {
          "output_type": "stream",
          "name": "stdout",
          "text": [
            "['.config', 'b.txt', 'sample_data']\n",
            "['.config', 'a.txt', 'sample_data']\n"
          ]
        }
      ]
    },
    {
      "cell_type": "code",
      "source": [
        "from google.colab import files\n",
        "import os\n",
        "#파일 존재 여부 확인\n",
        "print(os.path.exists(\"a.txt\"))\n",
        "print(os.path.exists(\"b.txt\"))"
      ],
      "metadata": {
        "colab": {
          "base_uri": "https://localhost:8080/"
        },
        "id": "kX6rJeU7-0Rx",
        "outputId": "60173ec2-75e7-402f-e70b-18654715a377"
      },
      "execution_count": null,
      "outputs": [
        {
          "output_type": "stream",
          "name": "stdout",
          "text": [
            "True\n",
            "False\n"
          ]
        }
      ]
    },
    {
      "cell_type": "code",
      "source": [
        "# 구구단 파일로 저장\n",
        "from google.colab import files\n",
        "import sys\n",
        "\n",
        "f = open(\"a.txt\",\"w\")\n",
        "sys.stdout = f\n",
        "for i in range(2,10):\n",
        " for j in range(1,10):\n",
        "    print(\"{} x {} = {}\".format(i,j,i*j))\n",
        "print()\n",
        "#f.close()\n",
        "\n",
        "files.download(\"a.txt\")"
      ],
      "metadata": {
        "colab": {
          "base_uri": "https://localhost:8080/",
          "height": 17
        },
        "id": "rLr6rJFhCRZu",
        "outputId": "946b4c97-6b84-4628-df24-6965e0f3137c"
      },
      "execution_count": null,
      "outputs": [
        {
          "output_type": "display_data",
          "data": {
            "text/plain": [
              "<IPython.core.display.Javascript object>"
            ],
            "application/javascript": [
              "\n",
              "    async function download(id, filename, size) {\n",
              "      if (!google.colab.kernel.accessAllowed) {\n",
              "        return;\n",
              "      }\n",
              "      const div = document.createElement('div');\n",
              "      const label = document.createElement('label');\n",
              "      label.textContent = `Downloading \"${filename}\": `;\n",
              "      div.appendChild(label);\n",
              "      const progress = document.createElement('progress');\n",
              "      progress.max = size;\n",
              "      div.appendChild(progress);\n",
              "      document.body.appendChild(div);\n",
              "\n",
              "      const buffers = [];\n",
              "      let downloaded = 0;\n",
              "\n",
              "      const channel = await google.colab.kernel.comms.open(id);\n",
              "      // Send a message to notify the kernel that we're ready.\n",
              "      channel.send({})\n",
              "\n",
              "      for await (const message of channel.messages) {\n",
              "        // Send a message to notify the kernel that we're ready.\n",
              "        channel.send({})\n",
              "        if (message.buffers) {\n",
              "          for (const buffer of message.buffers) {\n",
              "            buffers.push(buffer);\n",
              "            downloaded += buffer.byteLength;\n",
              "            progress.value = downloaded;\n",
              "          }\n",
              "        }\n",
              "      }\n",
              "      const blob = new Blob(buffers, {type: 'application/binary'});\n",
              "      const a = document.createElement('a');\n",
              "      a.href = window.URL.createObjectURL(blob);\n",
              "      a.download = filename;\n",
              "      div.appendChild(a);\n",
              "      a.click();\n",
              "      div.remove();\n",
              "    }\n",
              "  "
            ]
          },
          "metadata": {}
        },
        {
          "output_type": "display_data",
          "data": {
            "text/plain": [
              "<IPython.core.display.Javascript object>"
            ],
            "application/javascript": [
              "download(\"download_afc6d434-966c-4134-8ae6-1c1e016ffaf0\", \"a.txt\", 779)"
            ]
          },
          "metadata": {}
        }
      ]
    },
    {
      "cell_type": "code",
      "source": [
        "from IPython.utils.sysinfo import encoding\n",
        "f = open(\"c.txt\",\"w\",encoding=\"utf8\")\n",
        "f.write(\"동해물과 나무 산 말\\n=고기\\n하이\\m137324234673476\")\n",
        "f.close()\n",
        "\n",
        "f.open(\"c.txt\",\"r\",encoding=\"utf8\")\n",
        "lines = f.readline()\n",
        "for line in lines:\n",
        "  print(line,end=\"\")\n",
        "f.close()\n",
        "\n",
        "files.download(\"c.txt\")"
      ],
      "metadata": {
        "id": "RNHG6yjDFQ0s"
      },
      "execution_count": null,
      "outputs": []
    },
    {
      "cell_type": "code",
      "source": [
        "#비주얼 스튜디오\n",
        "f = open(\"c:\\\\Users\\\\cooki\\\\Desktop\\\\c\\\\c.txt\",\"w\")\n",
        "f.write(\"동해물과 나무 산 말\\n=고기\\n하이\\m137324234673476\")\n",
        "f.close()\n",
        "\n",
        "f.open(\"c:\\\\Users\\\\cooki\\\\Desktop\\\\c\\\\c.txt\",\"rt\")\n",
        "lines = f.readline()\n",
        "for line in lines:\n",
        "  print(line,end=\"\")\n",
        "f.close()"
      ],
      "metadata": {
        "id": "Sxz0BSRiNrkk"
      },
      "execution_count": null,
      "outputs": []
    },
    {
      "cell_type": "code",
      "source": [
        "#비주얼 스튜디오\n",
        "import sys\n",
        "\n",
        "f = open(\"c:\\\\Users\\\\cooki\\\\Desktop\\\\c\\\\a.txt\",\"w\")\n",
        "sys.stdout = f\n",
        "for i in range(2,10):\n",
        " for j in range(1,10):\n",
        "    print(\"{} x {} = {}\".format(i,j,i*j))\n",
        "print()\n",
        "f.close()"
      ],
      "metadata": {
        "id": "Wg6ILZbQOvjZ"
      },
      "execution_count": null,
      "outputs": []
    },
    {
      "cell_type": "code",
      "source": [
        "#비주얼 스튜디오\n",
        "y = int(input(\"줄 수 입력하세요: \"))\n",
        "x = int(y/2)+1\n",
        "\n",
        "for i in range(1,2*x):\n",
        "    if(i<=x):\n",
        "        for j in range(x-i):\n",
        "            print(\" \",end=\"\")\n",
        "        for j in range(2*i-1):\n",
        "            print(\"0\",end=\"\")\n",
        "\n",
        "else: \n",
        "    for j in range(i-x):\n",
        "        print(\" \",end=\"\")\n",
        "    for j in range((2*x-i)*2-1):\n",
        "        print(\"0\",end=\"\")\n",
        "        print()"
      ],
      "metadata": {
        "id": "Wy_-jwUJRLag"
      },
      "execution_count": null,
      "outputs": []
    },
    {
      "cell_type": "code",
      "source": [
        "#비주얼 스튜디오\n",
        "def starw(i):\n",
        "    return\n",
        "print(\"0\"*i)\n",
        "i=i+1\n",
        "starw(i)\n",
        "\n",
        "starw(1)\n",
        "\"\"\"\n",
        "0\n",
        "00\n",
        "000\n",
        "0000\n",
        "00000\n",
        "\"\"\"\n",
        "\"\"\"\n",
        "*****\n",
        "****\n",
        "***\n",
        "**\n",
        "*\n",
        "\"\"\""
      ],
      "metadata": {
        "id": "fFWc8xmhTCfd"
      },
      "execution_count": null,
      "outputs": []
    },
    {
      "cell_type": "code",
      "source": [
        "def starw(i):\n",
        "    print(\"0\" * i)\n",
        "    if i > 1:\n",
        "        starw(i-1)\n",
        "\n",
        "starw(5)\n",
        "\n",
        "def starw2(i):\n",
        "    print(\"*\" * i)\n",
        "    if i > 1:\n",
        "        starw2(i-1)\n",
        "\n",
        "starw2(5)\n"
      ],
      "metadata": {
        "id": "-LPlC-hBT63w"
      },
      "execution_count": null,
      "outputs": []
    }
  ]
}