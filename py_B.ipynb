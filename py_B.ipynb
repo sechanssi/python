{
  "nbformat": 4,
  "nbformat_minor": 0,
  "metadata": {
    "colab": {
      "provenance": [],
      "authorship_tag": "ABX9TyNsbqSfMNC3yRe2JweTvXr3",
      "include_colab_link": true
    },
    "kernelspec": {
      "name": "python3",
      "display_name": "Python 3"
    },
    "language_info": {
      "name": "python"
    }
  },
  "cells": [
    {
      "cell_type": "markdown",
      "metadata": {
        "id": "view-in-github",
        "colab_type": "text"
      },
      "source": [
        "<a href=\"https://colab.research.google.com/github/sechanssi/python/blob/main/py_B.ipynb\" target=\"_parent\"><img src=\"https://colab.research.google.com/assets/colab-badge.svg\" alt=\"Open In Colab\"/></a>"
      ]
    },
    {
      "cell_type": "markdown",
      "source": [
        "# CH1 파이썬 문법"
      ],
      "metadata": {
        "id": "pFWZPxWph16l"
      }
    },
    {
      "cell_type": "markdown",
      "source": [
        "## 자료형\n",
        "#### 숫자형\n",
        "정수 : 123.-20. 0  \n",
        "실수 : 123.45.-4321.5. 6.08e9  \n",
        "8진수 : 0o456. 0o123  \n",
        "16진수 : 0xFF. 0x00. 0x0A "
      ],
      "metadata": {
        "id": "YvfZxIEnivcf"
      }
    },
    {
      "cell_type": "markdown",
      "source": [
        "#### 변수\n",
        "* 문자 또는 밑줄로 시작(beta,_kim)\n",
        "* 대소문자를 구분한다.(sum, Sum, SUM)\n",
        "* 영문자, 숫자, 밑줄(a-z, 0-9,_)\n",
        "* 파이썬 키워드는 사용 불가"
      ],
      "metadata": {
        "id": "q1zWqxqfoT6W"
      }
    },
    {
      "cell_type": "code",
      "source": [
        "a = 10\n",
        "b = 20\n",
        "c = a + b\n",
        "print(c)"
      ],
      "metadata": {
        "colab": {
          "base_uri": "https://localhost:8080/"
        },
        "id": "oah68qxFjiFI",
        "outputId": "9115c63a-6a35-4c32-b267-de0550524820"
      },
      "execution_count": null,
      "outputs": [
        {
          "output_type": "stream",
          "name": "stdout",
          "text": [
            "30\n"
          ]
        }
      ]
    },
    {
      "cell_type": "code",
      "source": [
        "a = 52\n",
        "b = 10\n",
        "c = a/b # 나눗셈\n",
        "d = a-b\n",
        "e = a*b\n",
        "f = a//b # 몫\n",
        "g = a%b # 나머지\n",
        "print(c,d,e,f,g)"
      ],
      "metadata": {
        "colab": {
          "base_uri": "https://localhost:8080/"
        },
        "id": "4722vHv0ktg9",
        "outputId": "3cef09f4-3ec3-42ef-908b-131c785eb2a7"
      },
      "execution_count": null,
      "outputs": [
        {
          "output_type": "stream",
          "name": "stdout",
          "text": [
            "5.2 42 520 5 2\n"
          ]
        }
      ]
    },
    {
      "cell_type": "code",
      "source": [
        "from binascii import b2a_base64\n",
        "a = 10\n",
        "b = 2\n",
        "# 나눗셈\n",
        "c = a/b\n",
        "d = a//b\n",
        "e = a%b\n",
        "f = a*b\n",
        "g = a**b\n",
        "print(c,b,e,f,g)"
      ],
      "metadata": {
        "colab": {
          "base_uri": "https://localhost:8080/"
        },
        "id": "LGN-ohQsmXX5",
        "outputId": "a7d75baf-b8ef-4120-fa16-c84d4e54a0b6"
      },
      "execution_count": null,
      "outputs": [
        {
          "output_type": "stream",
          "name": "stdout",
          "text": [
            "5.0 2 0 20 100\n"
          ]
        }
      ]
    },
    {
      "cell_type": "markdown",
      "source": [
        "#### 문자열  \n",
        "1. 큰 따옴표 : \"Hello World!\"  \n",
        "2. 작은 따옴표 : '대한민국'  \n",
        "3. 큰 따옴표 3개 : \"\"\"hello!\"\"\" \n",
        "4. 작은 따옴표 3개 : \n",
        "'''나랏 말쌓미 뒹궐에 다라  \n",
        "   엔터도 먹음'''\n"
      ],
      "metadata": {
        "id": "-r5uaBxZm38z"
      }
    },
    {
      "cell_type": "code",
      "source": [
        "myName = \"Kim\" # 카멜\n",
        "my_name = \"김\" # 스네이크\n",
        "MyName = \"kk\" # 파스칼\n",
        "_my_name = \"kim\"\n",
        "MYNAME = \"Kim\"\n",
        "my2name = \"123kim\"\n",
        "# 숫자 마이너스 스페이스바 안됨\n",
        "myStr = '123' # str\n",
        "myNum = 123 # int\n",
        "\n",
        "print(myStr, myNum)\n",
        "print(type(myStr))\n",
        "print(type(myNum))"
      ],
      "metadata": {
        "colab": {
          "base_uri": "https://localhost:8080/"
        },
        "id": "7HF3GlyIoEwj",
        "outputId": "c1e89ee2-0665-4a4f-a86a-a49e74ced8c5"
      },
      "execution_count": null,
      "outputs": [
        {
          "output_type": "stream",
          "name": "stdout",
          "text": [
            "123 123\n",
            "<class 'str'>\n",
            "<class 'int'>\n"
          ]
        }
      ]
    },
    {
      "cell_type": "markdown",
      "source": [
        "#### 여러개 변수 할당"
      ],
      "metadata": {
        "id": "O8Vgfo0rv93z"
      }
    },
    {
      "cell_type": "code",
      "source": [
        "x,y,z = \"포도\",\"딸기\",\"수박\"\n",
        "print(x)\n",
        "print(y)\n",
        "print(z)"
      ],
      "metadata": {
        "colab": {
          "base_uri": "https://localhost:8080/"
        },
        "id": "Z783DTQ9wC8o",
        "outputId": "0bb82a76-0b91-4cc8-c1c5-fdc07fe18179"
      },
      "execution_count": null,
      "outputs": [
        {
          "output_type": "stream",
          "name": "stdout",
          "text": [
            "포도\n",
            "딸기\n",
            "수박\n"
          ]
        }
      ]
    },
    {
      "cell_type": "code",
      "source": [
        "a = b = c = \"오렌지\"\n",
        "print(a)\n",
        "print(b)\n",
        "print(c)"
      ],
      "metadata": {
        "colab": {
          "base_uri": "https://localhost:8080/"
        },
        "id": "c93DkGqUwf2i",
        "outputId": "884bfad0-22a1-4569-c9c3-cf7e301ef1be"
      },
      "execution_count": null,
      "outputs": [
        {
          "output_type": "stream",
          "name": "stdout",
          "text": [
            "오렌지\n",
            "오렌지\n",
            "오렌지\n"
          ]
        }
      ]
    },
    {
      "cell_type": "code",
      "source": [
        "fruits = [\"포도\",\"딸기\",\"수박\"]\n",
        "x,y,z = fruits\n",
        "print(x)\n",
        "print(y)\n",
        "print(z)"
      ],
      "metadata": {
        "colab": {
          "base_uri": "https://localhost:8080/"
        },
        "id": "f5tC8Iubw6Ai",
        "outputId": "b20f08b0-53b1-427d-9a16-e600457dca39"
      },
      "execution_count": null,
      "outputs": [
        {
          "output_type": "stream",
          "name": "stdout",
          "text": [
            "포도\n",
            "딸기\n",
            "수박\n"
          ]
        }
      ]
    },
    {
      "cell_type": "code",
      "source": [
        "x = \"life\"\n",
        "y = \"is\"\n",
        "z = \"beautiful\"\n",
        "print(x,y,z)\n",
        "print(x+y+z)"
      ],
      "metadata": {
        "colab": {
          "base_uri": "https://localhost:8080/"
        },
        "id": "Pv5mRRYWxrOW",
        "outputId": "42a184fe-20e6-46cd-d4e0-0dc8884feeaa"
      },
      "execution_count": null,
      "outputs": [
        {
          "output_type": "stream",
          "name": "stdout",
          "text": [
            "life is beautiful\n",
            "lifeisbeautiful\n"
          ]
        }
      ]
    },
    {
      "cell_type": "code",
      "source": [
        "a = 1\n",
        "b = 2\n",
        "c = 3\n",
        "print(a,b,c)\n",
        "print(a+b+c)"
      ],
      "metadata": {
        "colab": {
          "base_uri": "https://localhost:8080/"
        },
        "id": "wNgHu_DdyNPJ",
        "outputId": "192ac78a-9404-4a15-f89d-b5f56311b8f6"
      },
      "execution_count": null,
      "outputs": [
        {
          "output_type": "stream",
          "name": "stdout",
          "text": [
            "1 2 3\n",
            "6\n"
          ]
        }
      ]
    },
    {
      "cell_type": "markdown",
      "source": [
        "#### 데이터 유형\n",
        "+ 텍스트\n",
        "+ 숫자\n",
        "+ 불 (bool)"
      ],
      "metadata": {
        "id": "_eAq03fQyyH1"
      }
    },
    {
      "cell_type": "code",
      "source": [
        "a = 100\n",
        "b = 200\n",
        "sum = a + b\n",
        "print(a,'+', b, '=', sum)\n",
        "\n",
        "sum = a - b\n",
        "print(a, '-', b, '=', sum)\n",
        "\n",
        "sum = a * b\n",
        "print(a, '*', b, '=', sum)\n",
        "\n",
        "sum = a / b\n",
        "print(a, '/', b, '=', sum)"
      ],
      "metadata": {
        "colab": {
          "base_uri": "https://localhost:8080/"
        },
        "id": "ZLn3a0qHzN8e",
        "outputId": "c5d5a453-82d6-41dd-d35e-947ad77129f5"
      },
      "execution_count": null,
      "outputs": [
        {
          "output_type": "stream",
          "name": "stdout",
          "text": [
            "100 + 200 = 300\n",
            "100 - 200 = -100\n",
            "100 * 200 = 20000\n",
            "100 / 200 = 0.5\n"
          ]
        }
      ]
    },
    {
      "cell_type": "markdown",
      "source": [
        "#### input() 함수를 이용한 계산기"
      ],
      "metadata": {
        "id": "7xh0q2CdAb-E"
      }
    },
    {
      "cell_type": "code",
      "source": [
        "a = int(input(\"첫 번째 수를 입력하세요: \"))\n",
        "b = int(input(\"두 번째 수를 입력하세요: \"))\n",
        "result = a + b\n",
        "print(a,'+', b, '=', result)\n",
        "\n",
        "result = a - b\n",
        "print(a, '-', b, '=', result)\n",
        "\n",
        "result = a * b\n",
        "print(a, '*', b, '=', result)\n",
        "\n",
        "result = a / b\n",
        "print(a, '/', b, '=', result)\n",
        "# 제곱, 몫, 나머지\n",
        "result = a ** b\n",
        "print(a, '**', b, '=', result)\n",
        "\n",
        "result = a // b\n",
        "print(a, '//', b, '=', result)\n",
        "\n",
        "result = a % b\n",
        "print(a, '%', b, '=', result)"
      ],
      "metadata": {
        "colab": {
          "base_uri": "https://localhost:8080/"
        },
        "id": "-QxIUkXNAoHX",
        "outputId": "d8edeca9-88b3-4f8b-d4ef-e2b47196c23a"
      },
      "execution_count": null,
      "outputs": [
        {
          "output_type": "stream",
          "name": "stdout",
          "text": [
            "첫 번째 수를 입력하세요: 12\n",
            "두 번째 수를 입력하세요: 12\n",
            "12 + 12 = 24\n",
            "12 - 12 = 0\n",
            "12 * 12 = 144\n",
            "12 / 12 = 1.0\n",
            "12 ** 12 = 8916100448256\n",
            "12 // 12 = 1\n",
            "12 % 12 = 0\n"
          ]
        }
      ]
    },
    {
      "cell_type": "code",
      "source": [
        "num1 = input(\"숫자입력1: \")\n",
        "num2 = input(\"숫자입력2: \")\n",
        "result = num1 + num2\n",
        "print(type(num1))\n",
        "print(num1,'+', num2, '=', result)"
      ],
      "metadata": {
        "colab": {
          "base_uri": "https://localhost:8080/"
        },
        "id": "rJA5z7Q5Dflf",
        "outputId": "f3cef385-98eb-409e-c487-929cfc495df0"
      },
      "execution_count": null,
      "outputs": [
        {
          "output_type": "stream",
          "name": "stdout",
          "text": [
            "숫자입력1: 100\n",
            "숫자입력2: 100\n",
            "<class 'str'>\n",
            "100 + 100 = 100100\n"
          ]
        }
      ]
    },
    {
      "cell_type": "code",
      "source": [
        "name = input(\"이름을 입력하세요: \")\n",
        "phone_num = input(\"전화번호를 입력하세요: \")\n",
        "weight = int(input(\"무게를 입력하세요(g): \"))\n",
        "\n",
        "price = weight * 10\n",
        "\n",
        "print(\"이름:\", name)\n",
        "print(\"전화번호:\", phone_num)\n",
        "print(\"무게(g):\", weight)\n",
        "print(\"배송비:\", price, \"원\")\n"
      ],
      "metadata": {
        "colab": {
          "base_uri": "https://localhost:8080/"
        },
        "id": "K4bEYqo1EVkI",
        "outputId": "748560fb-15bc-4fea-a710-102810eaffb9"
      },
      "execution_count": null,
      "outputs": [
        {
          "output_type": "stream",
          "name": "stdout",
          "text": [
            "이름을 입력하세요: 김세찬\n",
            "전화번호를 입력하세요: 020\n",
            "무게를 입력하세요(g): 20\n",
            "이름: 김세찬\n",
            "전화번호: 020\n",
            "무게(g): 20\n",
            "배송비: 200 원\n"
          ]
        }
      ]
    },
    {
      "cell_type": "markdown",
      "source": [
        "#### 2. print() 서식 출력"
      ],
      "metadata": {
        "id": "juZ9AJrVilbu"
      }
    },
    {
      "cell_type": "code",
      "source": [
        "print( \"%d \" % 123)\n",
        "print( \"%5d \" % 123)\n",
        "print( \"%05d \" % 123)\n",
        "\n",
        "print( \"%f \" % 123.45)\n",
        "print( \"%7.1f \" % 123.45)\n",
        "print( \"%7.3f \" % 123.45)\n",
        "\n",
        "print( \"%s \" % \"대한민국\")\n",
        "print( \"%8s \" % \"대한민국\")"
      ],
      "metadata": {
        "colab": {
          "base_uri": "https://localhost:8080/"
        },
        "id": "JK_kMNOIirRz",
        "outputId": "ae68f9ad-9c5a-415d-b402-b2d387e2e618"
      },
      "execution_count": 5,
      "outputs": [
        {
          "output_type": "stream",
          "name": "stdout",
          "text": [
            "123 \n",
            "  123 \n",
            "00123 \n",
            "123.450000 \n",
            "  123.5 \n",
            "123.450 \n",
            "대한민국 \n",
            "    대한민국 \n"
          ]
        }
      ]
    },
    {
      "cell_type": "code",
      "source": [
        "print( \"{0:d} {1:5d} {2:05d}\".format(123,456,789))"
      ],
      "metadata": {
        "colab": {
          "base_uri": "https://localhost:8080/"
        },
        "id": "HLz79uV3k4-b",
        "outputId": "6171b803-4c7f-4535-cfbd-ced979ff1a79"
      },
      "execution_count": 9,
      "outputs": [
        {
          "output_type": "stream",
          "name": "stdout",
          "text": [
            "123   456 00789\n"
          ]
        }
      ]
    },
    {
      "cell_type": "code",
      "source": [
        "print( \"{2:d} {1:5d} {0:05d}\".format(123,456,789))"
      ],
      "metadata": {
        "colab": {
          "base_uri": "https://localhost:8080/"
        },
        "id": "7xy15N7ekBxq",
        "outputId": "480bc5bf-03d1-434c-9b28-11574a67c654"
      },
      "execution_count": 8,
      "outputs": [
        {
          "output_type": "stream",
          "name": "stdout",
          "text": [
            "789   456 00123\n"
          ]
        }
      ]
    },
    {
      "cell_type": "markdown",
      "source": [
        "### 서식 출력"
      ],
      "metadata": {
        "id": "Pn2IzKRXk9k6"
      }
    },
    {
      "cell_type": "code",
      "source": [
        "print(\"\\n줄바꿈\\n연습입니다\")"
      ],
      "metadata": {
        "colab": {
          "base_uri": "https://localhost:8080/"
        },
        "id": "qEndWwMOlFFm",
        "outputId": "4a05a364-bd63-4ed2-ee12-c50162475bc7"
      },
      "execution_count": 10,
      "outputs": [
        {
          "output_type": "stream",
          "name": "stdout",
          "text": [
            "\n",
            "줄바꿈\n",
            "연습입니다\n"
          ]
        }
      ]
    },
    {
      "cell_type": "code",
      "source": [
        "print(\"\\t탭키\\t연습입니다\")"
      ],
      "metadata": {
        "colab": {
          "base_uri": "https://localhost:8080/"
        },
        "id": "cBFcVxgalbc2",
        "outputId": "c639bdb7-87d1-4b2e-964e-7fe130af3d05"
      },
      "execution_count": 11,
      "outputs": [
        {
          "output_type": "stream",
          "name": "stdout",
          "text": [
            "\t탭키\t연습입니다\n"
          ]
        }
      ]
    },
    {
      "cell_type": "code",
      "source": [
        "print(\"글자가 \\\"강조\\\"되는 효과1\")\n",
        "print(\"글자가 \\'강조\\'되는 효과2\")\n",
        "print(\"역슬래시 3개 출력 \\\\\\\\\\\\\")\n",
        "print(r\"\\n \\t \\\" \\\\ \\\" @를 그대로 출력\") #그대로 출력됨"
      ],
      "metadata": {
        "colab": {
          "base_uri": "https://localhost:8080/"
        },
        "id": "pbiH09tVlgXm",
        "outputId": "534af80e-3ffa-4648-88eb-f36de219b869"
      },
      "execution_count": 19,
      "outputs": [
        {
          "output_type": "stream",
          "name": "stdout",
          "text": [
            "글자가 \"강조\"되는 효과1\n",
            "글자가 '강조'되는 효과2\n",
            "역슬래시 3개 출력 \\\\\\\n",
            "\\n \\t \\\" \\\\ \\\" @를 그대로 출력\n"
          ]
        }
      ]
    },
    {
      "cell_type": "markdown",
      "source": [
        "#### 관계 연산자"
      ],
      "metadata": {
        "id": "pnjEDncIogU-"
      }
    },
    {
      "cell_type": "code",
      "source": [
        "a,b = 10,20\n",
        "print(a==b, a!=b, a>b, a<b, a>=b, a<=b)"
      ],
      "metadata": {
        "colab": {
          "base_uri": "https://localhost:8080/"
        },
        "id": "Im8Er66Monc6",
        "outputId": "1099eccf-4939-4fb3-f77d-2891f0fc12de"
      },
      "execution_count": 23,
      "outputs": [
        {
          "output_type": "stream",
          "name": "stdout",
          "text": [
            "False True False True False True\n"
          ]
        }
      ]
    },
    {
      "cell_type": "code",
      "source": [
        "a = 99\n",
        "print((a>100) and (a<200))\n",
        "print((a>100) or (a<200))\n",
        "print(not(a==100))"
      ],
      "metadata": {
        "colab": {
          "base_uri": "https://localhost:8080/"
        },
        "id": "jrdMPNmWpI52",
        "outputId": "b81f3504-271c-47aa-a5f5-998dfce69792"
      },
      "execution_count": 24,
      "outputs": [
        {
          "output_type": "stream",
          "name": "stdout",
          "text": [
            "False\n",
            "True\n",
            "True\n"
          ]
        }
      ]
    },
    {
      "cell_type": "code",
      "source": [
        "if(123):\n",
        "  print(\"참이면 보입니다.\")\n",
        "if(0):\n",
        "  print(\"거짓이면 안 보입니다.\")"
      ],
      "metadata": {
        "colab": {
          "base_uri": "https://localhost:8080/"
        },
        "id": "AbUDwZnipfJ_",
        "outputId": "52f6e726-1326-4813-df48-891a08260c96"
      },
      "execution_count": 26,
      "outputs": [
        {
          "output_type": "stream",
          "name": "stdout",
          "text": [
            "참이면 보입니다.\n"
          ]
        }
      ]
    },
    {
      "cell_type": "markdown",
      "source": [
        "### 퀴즈2 숫자 입력을 받아 동전으로 바꿔주는 프로그램( 500원, 100원, 50원, 10원) 나머지는 거스름 돈으로 출력"
      ],
      "metadata": {
        "id": "S_4P71tXvvQG"
      }
    },
    {
      "cell_type": "code",
      "source": [
        "#변수\n",
        "bill, c500, c100, c50, c10 = 0,0,0,0,0\n",
        "bill = int(input(\"바꿀돈은?\"))\n",
        "\n",
        "c500 = bill // 500 # 몫\n",
        "bill %= 500 # bill = bill % 500\n",
        "c100 = bill // 100\n",
        "bill %= 100\n",
        "c50 = bill // 50\n",
        "bill %= 50\n",
        "c10 %= bill // 10\n",
        "bill %= 10\n",
        "\n",
        "print(\"500원짜리 : %d개\" % c500)\n",
        "print(\"100원짜리 : %d개\" % c100)\n",
        "print(\"50원짜리 : %d개\" % c50)\n",
        "print(\"10원짜리 : %d개\" % c10)\n",
        "print(\"잔돈 %d원\" % bill)"
      ],
      "metadata": {
        "colab": {
          "base_uri": "https://localhost:8080/"
        },
        "id": "9B0vFzuXv7j5",
        "outputId": "8f67ab6e-f390-4562-9ba1-9831dbcc6b9e"
      },
      "execution_count": 37,
      "outputs": [
        {
          "output_type": "stream",
          "name": "stdout",
          "text": [
            "바꿀돈은?111\n",
            "500원짜리 : 0개\n",
            "100원짜리 : 1개\n",
            "50원짜리 : 0개\n",
            "10원짜리 : 0개\n",
            "잔돈 1원\n"
          ]
        }
      ]
    },
    {
      "cell_type": "markdown",
      "source": [
        "#### 조건문"
      ],
      "metadata": {
        "id": "LYY1xHRv1Nb4"
      }
    },
    {
      "cell_type": "code",
      "source": [
        "a = 2000\n",
        "if(a<100):\n",
        "  print(\"100보다 작음\")\n",
        "else : \n",
        "  print(\"100보다 크다\")\n",
        "print(\"프로그램 끝\")"
      ],
      "metadata": {
        "colab": {
          "base_uri": "https://localhost:8080/"
        },
        "id": "3iRy5TVG1QVc",
        "outputId": "dd5fb108-85a8-4dfd-b994-039ca6c32b9e"
      },
      "execution_count": 40,
      "outputs": [
        {
          "output_type": "stream",
          "name": "stdout",
          "text": [
            "100보다 크다\n",
            "프로그램 끝\n"
          ]
        }
      ]
    },
    {
      "cell_type": "code",
      "source": [
        "#짝수 홀수 구분\n",
        "a = int(input(\"정수를 입력하시오 : \"))\n",
        "if(a % 2 == 0):\n",
        "  print(\"짝수\")\n",
        "else :\n",
        "  print(\"홀수\")"
      ],
      "metadata": {
        "colab": {
          "base_uri": "https://localhost:8080/"
        },
        "id": "XWA1Olb22Mp9",
        "outputId": "ebb7376e-d675-4fe0-e292-66b27179f9eb"
      },
      "execution_count": 43,
      "outputs": [
        {
          "output_type": "stream",
          "name": "stdout",
          "text": [
            "정수를 입력하시오 : 3\n",
            "홀수\n"
          ]
        }
      ]
    },
    {
      "cell_type": "code",
      "source": [
        "a = 120\n",
        "if(a > 50):\n",
        "  if(a<100):\n",
        "    print(\"50<a<100\")\n",
        "  else:\n",
        "    print(\"a>100\")\n",
        "else:\n",
        "  print(\"a<50\")"
      ],
      "metadata": {
        "colab": {
          "base_uri": "https://localhost:8080/"
        },
        "id": "GbL6JJ3h29rQ",
        "outputId": "a32b86c8-1b02-48f0-e9e7-2fb110490b75"
      },
      "execution_count": 45,
      "outputs": [
        {
          "output_type": "stream",
          "name": "stdout",
          "text": [
            "a>100\n"
          ]
        }
      ]
    },
    {
      "cell_type": "code",
      "source": [
        "fruit = [\"사과\", \"배\", \"감\", \"포도\"]\n",
        "fruit.append(\"딸기\")\n",
        "if \"딸기\" not in fruit :\n",
        "  print(\"딸기가 있습니다\")\n",
        "  print(\"딸기가 없습니다\")\n",
        "print(fruit)"
      ],
      "metadata": {
        "colab": {
          "base_uri": "https://localhost:8080/"
        },
        "id": "pYBkrrCA7Zn5",
        "outputId": "385cd768-6a9d-4540-bbc9-5bc1f960502e"
      },
      "execution_count": 50,
      "outputs": [
        {
          "output_type": "stream",
          "name": "stdout",
          "text": [
            "['사과', '배', '감', '포도', '딸기']\n"
          ]
        }
      ]
    },
    {
      "cell_type": "code",
      "source": [
        "import random\n",
        "number = []\n",
        "for num in range(0,10):\n",
        "  number .append(random.randrange(0,10))\n",
        "print(\"생성된 리스트\", number)"
      ],
      "metadata": {
        "colab": {
          "base_uri": "https://localhost:8080/"
        },
        "id": "xN3_q7rG9CA3",
        "outputId": "0b867187-6019-4249-8988-6e0d003ba3f2"
      },
      "execution_count": 53,
      "outputs": [
        {
          "output_type": "stream",
          "name": "stdout",
          "text": [
            "생성된 리스트 [0, 0, 3, 5, 2, 4, 2, 2, 5, 0]\n"
          ]
        }
      ]
    },
    {
      "cell_type": "markdown",
      "source": [
        "#### 반복문"
      ],
      "metadata": {
        "id": "Jc1sYy5l-eHM"
      }
    },
    {
      "cell_type": "code",
      "source": [
        "for i in range(0,3,1):\n",
        "  print(\"안녕하세요~\")\n",
        "print(\"반갑~\")"
      ],
      "metadata": {
        "colab": {
          "base_uri": "https://localhost:8080/"
        },
        "id": "qA-Y2Cyz-f1q",
        "outputId": "1f83f6eb-97f0-40d1-d68f-d94c64418109"
      },
      "execution_count": 59,
      "outputs": [
        {
          "output_type": "stream",
          "name": "stdout",
          "text": [
            "안녕하세요~\n",
            "안녕하세요~\n",
            "안녕하세요~\n",
            "반갑~\n"
          ]
        }
      ]
    },
    {
      "cell_type": "code",
      "source": [
        "for i in range(1,9,1):\n",
        "    print(\"%d\" % i, end=\"  \")\n",
        "for i in range(1,9,1):\n",
        "    print(\"\\n%d\" % i, end=\"  \")"
      ],
      "metadata": {
        "colab": {
          "base_uri": "https://localhost:8080/"
        },
        "id": "HdI5C77y_zBH",
        "outputId": "b59b8bd4-23cd-44b9-e84a-75e22a1ba81a"
      },
      "execution_count": 62,
      "outputs": [
        {
          "output_type": "stream",
          "name": "stdout",
          "text": [
            "1  2  3  4  5  6  7  8  \n",
            "1  \n",
            "2  \n",
            "3  \n",
            "4  \n",
            "5  \n",
            "6  \n",
            "7  \n",
            "8  "
          ]
        }
      ]
    },
    {
      "cell_type": "code",
      "source": [
        "sum=0\n",
        "for i in range(1,11,1):\n",
        "  sum = sum + i\n",
        "print(\"1~10까지 합계 : %d\" % sum)"
      ],
      "metadata": {
        "colab": {
          "base_uri": "https://localhost:8080/"
        },
        "id": "pC-iWn6VA5y2",
        "outputId": "19175991-550e-4e9f-bcb1-0d2654079ccd"
      },
      "execution_count": 64,
      "outputs": [
        {
          "output_type": "stream",
          "name": "stdout",
          "text": [
            "1~10까지 합계 : 55\n"
          ]
        }
      ]
    },
    {
      "cell_type": "markdown",
      "source": [
        "#### 퀴즈3 : 숫자 입력을 받아 1부터 입력된 숫자까지의 합을 for문을 활용하여 출력하시오."
      ],
      "metadata": {
        "id": "PH9cO91oB7Xy"
      }
    },
    {
      "cell_type": "code",
      "source": [
        "sum=0\n",
        "num = int(input(\"숫자입력 : \"))\n",
        "for i in range(1,num,1):\n",
        "  sum = sum + i\n",
        "print(\"1~n까지 합계 : %d\" % sum)"
      ],
      "metadata": {
        "colab": {
          "base_uri": "https://localhost:8080/"
        },
        "id": "RB1_upKgCNwu",
        "outputId": "c24027af-73e7-407d-8822-83e1f461bdb5"
      },
      "execution_count": 65,
      "outputs": [
        {
          "output_type": "stream",
          "name": "stdout",
          "text": [
            "숫자입력 : 12\n",
            "1~n까지 합계 : 66\n"
          ]
        }
      ]
    },
    {
      "cell_type": "markdown",
      "source": [
        "#### 중첩 for문"
      ],
      "metadata": {
        "id": "5aPxNRvYDj8y"
      }
    },
    {
      "cell_type": "code",
      "source": [
        "i,j,k=0,0,0\n",
        "k = int(input(\"구구단수 입력 : \"))\n",
        "for i in range(1,10,1):\n",
        "  print(\"%d x %d = %2d\" % (k,i,k*i))\n",
        "print(\"\")"
      ],
      "metadata": {
        "colab": {
          "base_uri": "https://localhost:8080/"
        },
        "id": "aw2zZHleDmui",
        "outputId": "f12085ea-2441-4a9a-9d3a-6469ca6c738e"
      },
      "execution_count": 70,
      "outputs": [
        {
          "output_type": "stream",
          "name": "stdout",
          "text": [
            "구구단수 입력 : 9\n",
            "9 x 1 =  9\n",
            "9 x 2 = 18\n",
            "9 x 3 = 27\n",
            "9 x 4 = 36\n",
            "9 x 5 = 45\n",
            "9 x 6 = 54\n",
            "9 x 7 = 63\n",
            "9 x 8 = 72\n",
            "9 x 9 = 81\n",
            "\n"
          ]
        }
      ]
    },
    {
      "cell_type": "code",
      "source": [
        "for i in range(2, 10):\n",
        "    for j in range(1, 10):\n",
        "        print(\"%d x %d = %2d\" % (i, j, i*j))\n",
        "    print()"
      ],
      "metadata": {
        "colab": {
          "base_uri": "https://localhost:8080/"
        },
        "id": "0Av13TlCFlse",
        "outputId": "fcd6bcbf-e17c-4cb7-e0e6-7db1506033d2"
      },
      "execution_count": 84,
      "outputs": [
        {
          "output_type": "stream",
          "name": "stdout",
          "text": [
            "2 x 1 =  2\n",
            "2 x 2 =  4\n",
            "2 x 3 =  6\n",
            "2 x 4 =  8\n",
            "2 x 5 = 10\n",
            "2 x 6 = 12\n",
            "2 x 7 = 14\n",
            "2 x 8 = 16\n",
            "2 x 9 = 18\n",
            "\n",
            "3 x 1 =  3\n",
            "3 x 2 =  6\n",
            "3 x 3 =  9\n",
            "3 x 4 = 12\n",
            "3 x 5 = 15\n",
            "3 x 6 = 18\n",
            "3 x 7 = 21\n",
            "3 x 8 = 24\n",
            "3 x 9 = 27\n",
            "\n",
            "4 x 1 =  4\n",
            "4 x 2 =  8\n",
            "4 x 3 = 12\n",
            "4 x 4 = 16\n",
            "4 x 5 = 20\n",
            "4 x 6 = 24\n",
            "4 x 7 = 28\n",
            "4 x 8 = 32\n",
            "4 x 9 = 36\n",
            "\n",
            "5 x 1 =  5\n",
            "5 x 2 = 10\n",
            "5 x 3 = 15\n",
            "5 x 4 = 20\n",
            "5 x 5 = 25\n",
            "5 x 6 = 30\n",
            "5 x 7 = 35\n",
            "5 x 8 = 40\n",
            "5 x 9 = 45\n",
            "\n",
            "6 x 1 =  6\n",
            "6 x 2 = 12\n",
            "6 x 3 = 18\n",
            "6 x 4 = 24\n",
            "6 x 5 = 30\n",
            "6 x 6 = 36\n",
            "6 x 7 = 42\n",
            "6 x 8 = 48\n",
            "6 x 9 = 54\n",
            "\n",
            "7 x 1 =  7\n",
            "7 x 2 = 14\n",
            "7 x 3 = 21\n",
            "7 x 4 = 28\n",
            "7 x 5 = 35\n",
            "7 x 6 = 42\n",
            "7 x 7 = 49\n",
            "7 x 8 = 56\n",
            "7 x 9 = 63\n",
            "\n",
            "8 x 1 =  8\n",
            "8 x 2 = 16\n",
            "8 x 3 = 24\n",
            "8 x 4 = 32\n",
            "8 x 5 = 40\n",
            "8 x 6 = 48\n",
            "8 x 7 = 56\n",
            "8 x 8 = 64\n",
            "8 x 9 = 72\n",
            "\n",
            "9 x 1 =  9\n",
            "9 x 2 = 18\n",
            "9 x 3 = 27\n",
            "9 x 4 = 36\n",
            "9 x 5 = 45\n",
            "9 x 6 = 54\n",
            "9 x 7 = 63\n",
            "9 x 8 = 72\n",
            "9 x 9 = 81\n",
            "\n"
          ]
        }
      ]
    },
    {
      "cell_type": "markdown",
      "source": [
        "#### 퀴즈 구구단을 2,3,4,5 출력 후 줄바꿔서 출력하시오."
      ],
      "metadata": {
        "id": "KUJyXltiGANy"
      }
    },
    {
      "cell_type": "code",
      "source": [
        "a,b=0,0\n",
        "for a in range(1, 10, 1):\n",
        "    for b in range(2, 6,1):\n",
        "      print(\"%d x %d = %2d\" % (a, b, a*b), end=\"\\t\")\n",
        "    print(\"\")\n",
        "print(\"\\n\")  \n",
        "a,b=0,0\n",
        "for a in range(1, 10, 1):\n",
        "    for b in range(2, 6,1):\n",
        "      print(\"%d x %d = %2d\" % (a, b, a*b), end=\"\\t\")\n",
        "    print(\"\")"
      ],
      "metadata": {
        "colab": {
          "base_uri": "https://localhost:8080/"
        },
        "id": "-582ecQsGtPm",
        "outputId": "d5a56856-0f2d-4f98-8d92-c91f02b5564e"
      },
      "execution_count": 112,
      "outputs": [
        {
          "output_type": "stream",
          "name": "stdout",
          "text": [
            "1 x 2 =  2\t1 x 3 =  3\t1 x 4 =  4\t1 x 5 =  5\t\n",
            "2 x 2 =  4\t2 x 3 =  6\t2 x 4 =  8\t2 x 5 = 10\t\n",
            "3 x 2 =  6\t3 x 3 =  9\t3 x 4 = 12\t3 x 5 = 15\t\n",
            "4 x 2 =  8\t4 x 3 = 12\t4 x 4 = 16\t4 x 5 = 20\t\n",
            "5 x 2 = 10\t5 x 3 = 15\t5 x 4 = 20\t5 x 5 = 25\t\n",
            "6 x 2 = 12\t6 x 3 = 18\t6 x 4 = 24\t6 x 5 = 30\t\n",
            "7 x 2 = 14\t7 x 3 = 21\t7 x 4 = 28\t7 x 5 = 35\t\n",
            "8 x 2 = 16\t8 x 3 = 24\t8 x 4 = 32\t8 x 5 = 40\t\n",
            "9 x 2 = 18\t9 x 3 = 27\t9 x 4 = 36\t9 x 5 = 45\t\n",
            "\n",
            "\n",
            "1 x 2 =  2\t1 x 3 =  3\t1 x 4 =  4\t1 x 5 =  5\t\n",
            "2 x 2 =  4\t2 x 3 =  6\t2 x 4 =  8\t2 x 5 = 10\t\n",
            "3 x 2 =  6\t3 x 3 =  9\t3 x 4 = 12\t3 x 5 = 15\t\n",
            "4 x 2 =  8\t4 x 3 = 12\t4 x 4 = 16\t4 x 5 = 20\t\n",
            "5 x 2 = 10\t5 x 3 = 15\t5 x 4 = 20\t5 x 5 = 25\t\n",
            "6 x 2 = 12\t6 x 3 = 18\t6 x 4 = 24\t6 x 5 = 30\t\n",
            "7 x 2 = 14\t7 x 3 = 21\t7 x 4 = 28\t7 x 5 = 35\t\n",
            "8 x 2 = 16\t8 x 3 = 24\t8 x 4 = 32\t8 x 5 = 40\t\n",
            "9 x 2 = 18\t9 x 3 = 27\t9 x 4 = 36\t9 x 5 = 45\t\n"
          ]
        }
      ]
    }
  ]
}