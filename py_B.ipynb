{
  "nbformat": 4,
  "nbformat_minor": 0,
  "metadata": {
    "colab": {
      "provenance": [],
      "authorship_tag": "ABX9TyPeWVniirD1WWhTawkRCnX/"
    },
    "kernelspec": {
      "name": "python3",
      "display_name": "Python 3"
    },
    "language_info": {
      "name": "python"
    }
  },
  "cells": [
    {
      "cell_type": "markdown",
      "source": [
        "# CH1 파이썬 문법"
      ],
      "metadata": {
        "id": "pFWZPxWph16l"
      }
    },
    {
      "cell_type": "markdown",
      "source": [
        "## 자료형\n",
        "#### 숫자형\n",
        "정수 : 123.-20. 0  \n",
        "실수 : 123.45.-4321.5. 6.08e9  \n",
        "8진수 : 0o456. 0o123  \n",
        "16진수 : 0xFF. 0x00. 0x0A "
      ],
      "metadata": {
        "id": "YvfZxIEnivcf"
      }
    },
    {
      "cell_type": "markdown",
      "source": [
        "#### 변수\n",
        "* 문자 또는 밑줄로 시작(beta,_kim)\n",
        "* 대소문자를 구분한다.(sum, Sum, SUM)\n",
        "* 영문자, 숫자, 밑줄(a-z, 0-9,_)\n",
        "* 파이썬 키워드는 사용 불가"
      ],
      "metadata": {
        "id": "q1zWqxqfoT6W"
      }
    },
    {
      "cell_type": "code",
      "source": [
        "a = 10\n",
        "b = 20\n",
        "c = a + b\n",
        "print(c)"
      ],
      "metadata": {
        "colab": {
          "base_uri": "https://localhost:8080/"
        },
        "id": "oah68qxFjiFI",
        "outputId": "9115c63a-6a35-4c32-b267-de0550524820"
      },
      "execution_count": 7,
      "outputs": [
        {
          "output_type": "stream",
          "name": "stdout",
          "text": [
            "30\n"
          ]
        }
      ]
    },
    {
      "cell_type": "code",
      "source": [
        "a = 52\n",
        "b = 10\n",
        "c = a/b # 나눗셈\n",
        "d = a-b\n",
        "e = a*b\n",
        "f = a//b # 몫\n",
        "g = a%b # 나머지\n",
        "print(c,d,e,f,g)"
      ],
      "metadata": {
        "colab": {
          "base_uri": "https://localhost:8080/"
        },
        "id": "4722vHv0ktg9",
        "outputId": "3cef09f4-3ec3-42ef-908b-131c785eb2a7"
      },
      "execution_count": 11,
      "outputs": [
        {
          "output_type": "stream",
          "name": "stdout",
          "text": [
            "5.2 42 520 5 2\n"
          ]
        }
      ]
    },
    {
      "cell_type": "code",
      "source": [
        "from binascii import b2a_base64\n",
        "a = 10\n",
        "b = 2\n",
        "# 나눗셈\n",
        "c = a/b\n",
        "d = a//b\n",
        "e = a%b\n",
        "f = a*b\n",
        "g = a**b\n",
        "print(c,b,e,f,g)"
      ],
      "metadata": {
        "colab": {
          "base_uri": "https://localhost:8080/"
        },
        "id": "LGN-ohQsmXX5",
        "outputId": "a7d75baf-b8ef-4120-fa16-c84d4e54a0b6"
      },
      "execution_count": 15,
      "outputs": [
        {
          "output_type": "stream",
          "name": "stdout",
          "text": [
            "5.0 2 0 20 100\n"
          ]
        }
      ]
    },
    {
      "cell_type": "markdown",
      "source": [
        "#### 문자열  \n",
        "1. 큰 따옴표 : \"Hello World!\"  \n",
        "2. 작은 따옴표 : '대한민국'  \n",
        "3. 큰 따옴표 3개 : \"\"\"hello!\"\"\" \n",
        "4. 작은 따옴표 3개 : \n",
        "'''나랏 말쌓미 뒹궐에 다라  \n",
        "   엔터도 먹음'''\n"
      ],
      "metadata": {
        "id": "-r5uaBxZm38z"
      }
    },
    {
      "cell_type": "code",
      "source": [
        "myName = \"Kim\" # 카멜\n",
        "my_name = \"김\" # 스네이크\n",
        "MyName = \"kk\" # 파스칼\n",
        "_my_name = \"kim\"\n",
        "MYNAME = \"Kim\"\n",
        "my2name = \"123kim\"\n",
        "# 숫자 마이너스 스페이스바 안됨\n",
        "myStr = '123' # str\n",
        "myNum = 123 # int\n",
        "\n",
        "print(myStr, myNum)\n",
        "print(type(myStr))\n",
        "print(type(myNum))"
      ],
      "metadata": {
        "colab": {
          "base_uri": "https://localhost:8080/"
        },
        "id": "7HF3GlyIoEwj",
        "outputId": "c1e89ee2-0665-4a4f-a86a-a49e74ced8c5"
      },
      "execution_count": 17,
      "outputs": [
        {
          "output_type": "stream",
          "name": "stdout",
          "text": [
            "123 123\n",
            "<class 'str'>\n",
            "<class 'int'>\n"
          ]
        }
      ]
    },
    {
      "cell_type": "markdown",
      "source": [
        "#### 여러개 변수 할당"
      ],
      "metadata": {
        "id": "O8Vgfo0rv93z"
      }
    },
    {
      "cell_type": "code",
      "source": [
        "x,y,z = \"포도\",\"딸기\",\"수박\"\n",
        "print(x)\n",
        "print(y)\n",
        "print(z)"
      ],
      "metadata": {
        "colab": {
          "base_uri": "https://localhost:8080/"
        },
        "id": "Z783DTQ9wC8o",
        "outputId": "0bb82a76-0b91-4cc8-c1c5-fdc07fe18179"
      },
      "execution_count": 19,
      "outputs": [
        {
          "output_type": "stream",
          "name": "stdout",
          "text": [
            "포도\n",
            "딸기\n",
            "수박\n"
          ]
        }
      ]
    },
    {
      "cell_type": "code",
      "source": [
        "a = b = c = \"오렌지\"\n",
        "print(a)\n",
        "print(b)\n",
        "print(c)"
      ],
      "metadata": {
        "colab": {
          "base_uri": "https://localhost:8080/"
        },
        "id": "c93DkGqUwf2i",
        "outputId": "884bfad0-22a1-4569-c9c3-cf7e301ef1be"
      },
      "execution_count": 20,
      "outputs": [
        {
          "output_type": "stream",
          "name": "stdout",
          "text": [
            "오렌지\n",
            "오렌지\n",
            "오렌지\n"
          ]
        }
      ]
    },
    {
      "cell_type": "code",
      "source": [
        "fruits = [\"포도\",\"딸기\",\"수박\"]\n",
        "x,y,z = fruits\n",
        "print(x)\n",
        "print(y)\n",
        "print(z)"
      ],
      "metadata": {
        "colab": {
          "base_uri": "https://localhost:8080/"
        },
        "id": "f5tC8Iubw6Ai",
        "outputId": "b20f08b0-53b1-427d-9a16-e600457dca39"
      },
      "execution_count": 21,
      "outputs": [
        {
          "output_type": "stream",
          "name": "stdout",
          "text": [
            "포도\n",
            "딸기\n",
            "수박\n"
          ]
        }
      ]
    },
    {
      "cell_type": "code",
      "source": [
        "x = \"life\"\n",
        "y = \"is\"\n",
        "z = \"beautiful\"\n",
        "print(x,y,z)\n",
        "print(x+y+z)"
      ],
      "metadata": {
        "colab": {
          "base_uri": "https://localhost:8080/"
        },
        "id": "Pv5mRRYWxrOW",
        "outputId": "42a184fe-20e6-46cd-d4e0-0dc8884feeaa"
      },
      "execution_count": 24,
      "outputs": [
        {
          "output_type": "stream",
          "name": "stdout",
          "text": [
            "life is beautiful\n",
            "lifeisbeautiful\n"
          ]
        }
      ]
    },
    {
      "cell_type": "code",
      "source": [
        "a = 1\n",
        "b = 2\n",
        "c = 3\n",
        "print(a,b,c)\n",
        "print(a+b+c)"
      ],
      "metadata": {
        "colab": {
          "base_uri": "https://localhost:8080/"
        },
        "id": "wNgHu_DdyNPJ",
        "outputId": "192ac78a-9404-4a15-f89d-b5f56311b8f6"
      },
      "execution_count": 25,
      "outputs": [
        {
          "output_type": "stream",
          "name": "stdout",
          "text": [
            "1 2 3\n",
            "6\n"
          ]
        }
      ]
    },
    {
      "cell_type": "markdown",
      "source": [
        "#### 데이터 유형\n",
        "+ 텍스트\n",
        "+ 숫자\n",
        "+ 불 (bool)"
      ],
      "metadata": {
        "id": "_eAq03fQyyH1"
      }
    },
    {
      "cell_type": "code",
      "source": [
        "a = 100\n",
        "b = 200\n",
        "sum = a + b\n",
        "print(a,'+', b, '=', sum)\n",
        "\n",
        "sum = a - b\n",
        "print(a, '-', b, '=', sum)\n",
        "\n",
        "sum = a * b\n",
        "print(a, '*', b, '=', sum)\n",
        "\n",
        "sum = a / b\n",
        "print(a, '/', b, '=', sum)"
      ],
      "metadata": {
        "colab": {
          "base_uri": "https://localhost:8080/"
        },
        "id": "ZLn3a0qHzN8e",
        "outputId": "c5d5a453-82d6-41dd-d35e-947ad77129f5"
      },
      "execution_count": 39,
      "outputs": [
        {
          "output_type": "stream",
          "name": "stdout",
          "text": [
            "100 + 200 = 300\n",
            "100 - 200 = -100\n",
            "100 * 200 = 20000\n",
            "100 / 200 = 0.5\n"
          ]
        }
      ]
    },
    {
      "cell_type": "markdown",
      "source": [
        "#### input() 함수를 이용한 계산기"
      ],
      "metadata": {
        "id": "7xh0q2CdAb-E"
      }
    },
    {
      "cell_type": "code",
      "source": [
        "a = int(input(\"첫 번째 수를 입력하세요: \"))\n",
        "b = int(input(\"두 번째 수를 입력하세요: \"))\n",
        "result = a + b\n",
        "print(a,'+', b, '=', result)\n",
        "\n",
        "result = a - b\n",
        "print(a, '-', b, '=', result)\n",
        "\n",
        "result = a * b\n",
        "print(a, '*', b, '=', result)\n",
        "\n",
        "result = a / b\n",
        "print(a, '/', b, '=', result)\n",
        "# 제곱, 몫, 나머지\n",
        "result = a ** b\n",
        "print(a, '**', b, '=', result)\n",
        "\n",
        "result = a // b\n",
        "print(a, '//', b, '=', result)\n",
        "\n",
        "result = a % b\n",
        "print(a, '%', b, '=', result)"
      ],
      "metadata": {
        "colab": {
          "base_uri": "https://localhost:8080/"
        },
        "id": "-QxIUkXNAoHX",
        "outputId": "d8edeca9-88b3-4f8b-d4ef-e2b47196c23a"
      },
      "execution_count": 43,
      "outputs": [
        {
          "output_type": "stream",
          "name": "stdout",
          "text": [
            "첫 번째 수를 입력하세요: 12\n",
            "두 번째 수를 입력하세요: 12\n",
            "12 + 12 = 24\n",
            "12 - 12 = 0\n",
            "12 * 12 = 144\n",
            "12 / 12 = 1.0\n",
            "12 ** 12 = 8916100448256\n",
            "12 // 12 = 1\n",
            "12 % 12 = 0\n"
          ]
        }
      ]
    },
    {
      "cell_type": "code",
      "source": [
        "num1 = input(\"숫자입력1: \")\n",
        "num2 = input(\"숫자입력2: \")\n",
        "result = num1 + num2\n",
        "print(type(num1))\n",
        "print(num1,'+', num2, '=', result)"
      ],
      "metadata": {
        "colab": {
          "base_uri": "https://localhost:8080/"
        },
        "id": "rJA5z7Q5Dflf",
        "outputId": "f3cef385-98eb-409e-c487-929cfc495df0"
      },
      "execution_count": 45,
      "outputs": [
        {
          "output_type": "stream",
          "name": "stdout",
          "text": [
            "숫자입력1: 100\n",
            "숫자입력2: 100\n",
            "<class 'str'>\n",
            "100 + 100 = 100100\n"
          ]
        }
      ]
    },
    {
      "cell_type": "code",
      "source": [
        "name = input(\"이름을 입력하세요: \")\n",
        "phone_num = input(\"전화번호를 입력하세요: \")\n",
        "weight = int(input(\"무게를 입력하세요(g): \"))\n",
        "\n",
        "price = weight * 10\n",
        "\n",
        "print(\"이름:\", name)\n",
        "print(\"전화번호:\", phone_num)\n",
        "print(\"무게(g):\", weight)\n",
        "print(\"배송비:\", price, \"원\")\n"
      ],
      "metadata": {
        "colab": {
          "base_uri": "https://localhost:8080/"
        },
        "id": "K4bEYqo1EVkI",
        "outputId": "748560fb-15bc-4fea-a710-102810eaffb9"
      },
      "execution_count": 57,
      "outputs": [
        {
          "output_type": "stream",
          "name": "stdout",
          "text": [
            "이름을 입력하세요: 김세찬\n",
            "전화번호를 입력하세요: 020\n",
            "무게를 입력하세요(g): 20\n",
            "이름: 김세찬\n",
            "전화번호: 020\n",
            "무게(g): 20\n",
            "배송비: 200 원\n"
          ]
        }
      ]
    }
  ]
}