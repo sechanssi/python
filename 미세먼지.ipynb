{
  "nbformat": 4,
  "nbformat_minor": 0,
  "metadata": {
    "colab": {
      "provenance": [],
      "authorship_tag": "ABX9TyN5rF1FT6n5VJ3vgd/u4YVe",
      "include_colab_link": true
    },
    "kernelspec": {
      "name": "python3",
      "display_name": "Python 3"
    },
    "language_info": {
      "name": "python"
    }
  },
  "cells": [
    {
      "cell_type": "markdown",
      "metadata": {
        "id": "view-in-github",
        "colab_type": "text"
      },
      "source": [
        "<a href=\"https://colab.research.google.com/github/sechanssi/python/blob/main/%EB%AF%B8%EC%84%B8%EB%A8%BC%EC%A7%80.ipynb\" target=\"_parent\"><img src=\"https://colab.research.google.com/assets/colab-badge.svg\" alt=\"Open In Colab\"/></a>"
      ]
    },
    {
      "cell_type": "code",
      "execution_count": 66,
      "metadata": {
        "id": "d1u1YSONiMml",
        "colab": {
          "base_uri": "https://localhost:8080/"
        },
        "outputId": "351183bc-cb31-4100-e5c4-1a8d9fdc43fc"
      },
      "outputs": [
        {
          "output_type": "stream",
          "name": "stdout",
          "text": [
            "b'{\"MetalService\":{\"header\":{\"code\":\"00\",\"message\":\"NORMAL SERVICE\"},\"item\":[{\"SDATE\":\"20171208000000\",\"STATIONCODE\":1,\"ITEMCODE\":\"90303\",\"TIMECODE\":\"RH02\",\"VALUE\":24.125},{\"SDATE\":\"20171208020000\",\"STATIONCODE\":1,\"ITEMCODE\":\"90303\",\"TIMECODE\":\"RH02\",\"VALUE\":26.973},{\"SDATE\":\"20171208040000\",\"STATIONCODE\":1,\"ITEMCODE\":\"90303\",\"TIMECODE\":\"RH02\",\"VALUE\":25.986},{\"SDATE\":\"20171208060000\",\"STATIONCODE\":1,\"ITEMCODE\":\"90303\",\"TIMECODE\":\"RH02\",\"VALUE\":23.7435},{\"SDATE\":\"20171208080000\",\"STATIONCODE\":1,\"ITEMCODE\":\"90303\",\"TIMECODE\":\"RH02\",\"VALUE\":22.9215},{\"SDATE\":\"20171208100000\",\"STATIONCODE\":1,\"ITEMCODE\":\"90303\",\"TIMECODE\":\"RH02\",\"VALUE\":21.729},{\"SDATE\":\"20171208120000\",\"STATIONCODE\":1,\"ITEMCODE\":\"90303\",\"TIMECODE\":\"RH02\",\"VALUE\":17.606},{\"SDATE\":\"20171208140000\",\"STATIONCODE\":1,\"ITEMCODE\":\"90303\",\"TIMECODE\":\"RH02\",\"VALUE\":12.102},{\"SDATE\":\"20171208160000\",\"STATIONCODE\":1,\"ITEMCODE\":\"90303\",\"TIMECODE\":\"RH02\",\"VALUE\":10.046},{\"SDATE\":\"20171208180000\",\"STATIONCODE\":1,\"ITEMCODE\":\"90303\",\"TIMECODE\":\"RH02\",\"VALUE\":8.5985},{\"SDATE\":\"20171208200000\",\"STATIONCODE\":1,\"ITEMCODE\":\"90303\",\"TIMECODE\":\"RH02\",\"VALUE\":9.077},{\"SDATE\":\"20171208220000\",\"STATIONCODE\":1,\"ITEMCODE\":\"90303\",\"TIMECODE\":\"RH02\",\"VALUE\":8.54}],\"rows\":null,\"numOfRows\":990,\"pageNo\":1,\"totalCount\":12}}'\n"
          ]
        }
      ],
      "source": [
        "# Python3 샘플 코드 #\n",
        "\n",
        "\n",
        "import requests\n",
        "\n",
        "url = 'http://apis.data.go.kr/1480523/MetalMeasuringResultService/MetalService'\n",
        "params ={'serviceKey' : 'pWO+NrKF1S9iCNbq16umtPo8D8V85pQvymIOURFnaDI0A2DvB1K/kEodruAkTBWr79LCOMHIc4kIkaYdJg/CQg==', 'pageNo' : '1', 'numOfRows' : '990', 'resultType' : 'JSON', 'date' : '20171208', 'stationcode' : '1', 'itemcode' : '90303', 'timecode' : 'RH02' }\n",
        "\n",
        "res = requests.get(url, params=params)\n",
        "print(res.content)\n"
      ]
    },
    {
      "cell_type": "code",
      "source": [
        "import json\n",
        "json_file = json.loads(res.text)"
      ],
      "metadata": {
        "id": "15j8GAdzFZ_8"
      },
      "execution_count": 67,
      "outputs": []
    },
    {
      "cell_type": "code",
      "source": [
        "import pandas as pd\n",
        "from pandas import json_normalize\n",
        "df = json_normalize(json_file['MetalService']['item'])\n",
        "df"
      ],
      "metadata": {
        "colab": {
          "base_uri": "https://localhost:8080/",
          "height": 425
        },
        "id": "K_O2uihnFbRV",
        "outputId": "a515c884-4076-4eac-c95a-b9dd668fa764"
      },
      "execution_count": 68,
      "outputs": [
        {
          "output_type": "execute_result",
          "data": {
            "text/plain": [
              "             SDATE  STATIONCODE ITEMCODE TIMECODE    VALUE\n",
              "0   20171208000000            1    90303     RH02  24.1250\n",
              "1   20171208020000            1    90303     RH02  26.9730\n",
              "2   20171208040000            1    90303     RH02  25.9860\n",
              "3   20171208060000            1    90303     RH02  23.7435\n",
              "4   20171208080000            1    90303     RH02  22.9215\n",
              "5   20171208100000            1    90303     RH02  21.7290\n",
              "6   20171208120000            1    90303     RH02  17.6060\n",
              "7   20171208140000            1    90303     RH02  12.1020\n",
              "8   20171208160000            1    90303     RH02  10.0460\n",
              "9   20171208180000            1    90303     RH02   8.5985\n",
              "10  20171208200000            1    90303     RH02   9.0770\n",
              "11  20171208220000            1    90303     RH02   8.5400"
            ],
            "text/html": [
              "\n",
              "  <div id=\"df-b625c97a-74ab-4b87-a5f0-0b721f33511f\">\n",
              "    <div class=\"colab-df-container\">\n",
              "      <div>\n",
              "<style scoped>\n",
              "    .dataframe tbody tr th:only-of-type {\n",
              "        vertical-align: middle;\n",
              "    }\n",
              "\n",
              "    .dataframe tbody tr th {\n",
              "        vertical-align: top;\n",
              "    }\n",
              "\n",
              "    .dataframe thead th {\n",
              "        text-align: right;\n",
              "    }\n",
              "</style>\n",
              "<table border=\"1\" class=\"dataframe\">\n",
              "  <thead>\n",
              "    <tr style=\"text-align: right;\">\n",
              "      <th></th>\n",
              "      <th>SDATE</th>\n",
              "      <th>STATIONCODE</th>\n",
              "      <th>ITEMCODE</th>\n",
              "      <th>TIMECODE</th>\n",
              "      <th>VALUE</th>\n",
              "    </tr>\n",
              "  </thead>\n",
              "  <tbody>\n",
              "    <tr>\n",
              "      <th>0</th>\n",
              "      <td>20171208000000</td>\n",
              "      <td>1</td>\n",
              "      <td>90303</td>\n",
              "      <td>RH02</td>\n",
              "      <td>24.1250</td>\n",
              "    </tr>\n",
              "    <tr>\n",
              "      <th>1</th>\n",
              "      <td>20171208020000</td>\n",
              "      <td>1</td>\n",
              "      <td>90303</td>\n",
              "      <td>RH02</td>\n",
              "      <td>26.9730</td>\n",
              "    </tr>\n",
              "    <tr>\n",
              "      <th>2</th>\n",
              "      <td>20171208040000</td>\n",
              "      <td>1</td>\n",
              "      <td>90303</td>\n",
              "      <td>RH02</td>\n",
              "      <td>25.9860</td>\n",
              "    </tr>\n",
              "    <tr>\n",
              "      <th>3</th>\n",
              "      <td>20171208060000</td>\n",
              "      <td>1</td>\n",
              "      <td>90303</td>\n",
              "      <td>RH02</td>\n",
              "      <td>23.7435</td>\n",
              "    </tr>\n",
              "    <tr>\n",
              "      <th>4</th>\n",
              "      <td>20171208080000</td>\n",
              "      <td>1</td>\n",
              "      <td>90303</td>\n",
              "      <td>RH02</td>\n",
              "      <td>22.9215</td>\n",
              "    </tr>\n",
              "    <tr>\n",
              "      <th>5</th>\n",
              "      <td>20171208100000</td>\n",
              "      <td>1</td>\n",
              "      <td>90303</td>\n",
              "      <td>RH02</td>\n",
              "      <td>21.7290</td>\n",
              "    </tr>\n",
              "    <tr>\n",
              "      <th>6</th>\n",
              "      <td>20171208120000</td>\n",
              "      <td>1</td>\n",
              "      <td>90303</td>\n",
              "      <td>RH02</td>\n",
              "      <td>17.6060</td>\n",
              "    </tr>\n",
              "    <tr>\n",
              "      <th>7</th>\n",
              "      <td>20171208140000</td>\n",
              "      <td>1</td>\n",
              "      <td>90303</td>\n",
              "      <td>RH02</td>\n",
              "      <td>12.1020</td>\n",
              "    </tr>\n",
              "    <tr>\n",
              "      <th>8</th>\n",
              "      <td>20171208160000</td>\n",
              "      <td>1</td>\n",
              "      <td>90303</td>\n",
              "      <td>RH02</td>\n",
              "      <td>10.0460</td>\n",
              "    </tr>\n",
              "    <tr>\n",
              "      <th>9</th>\n",
              "      <td>20171208180000</td>\n",
              "      <td>1</td>\n",
              "      <td>90303</td>\n",
              "      <td>RH02</td>\n",
              "      <td>8.5985</td>\n",
              "    </tr>\n",
              "    <tr>\n",
              "      <th>10</th>\n",
              "      <td>20171208200000</td>\n",
              "      <td>1</td>\n",
              "      <td>90303</td>\n",
              "      <td>RH02</td>\n",
              "      <td>9.0770</td>\n",
              "    </tr>\n",
              "    <tr>\n",
              "      <th>11</th>\n",
              "      <td>20171208220000</td>\n",
              "      <td>1</td>\n",
              "      <td>90303</td>\n",
              "      <td>RH02</td>\n",
              "      <td>8.5400</td>\n",
              "    </tr>\n",
              "  </tbody>\n",
              "</table>\n",
              "</div>\n",
              "      <button class=\"colab-df-convert\" onclick=\"convertToInteractive('df-b625c97a-74ab-4b87-a5f0-0b721f33511f')\"\n",
              "              title=\"Convert this dataframe to an interactive table.\"\n",
              "              style=\"display:none;\">\n",
              "        \n",
              "  <svg xmlns=\"http://www.w3.org/2000/svg\" height=\"24px\"viewBox=\"0 0 24 24\"\n",
              "       width=\"24px\">\n",
              "    <path d=\"M0 0h24v24H0V0z\" fill=\"none\"/>\n",
              "    <path d=\"M18.56 5.44l.94 2.06.94-2.06 2.06-.94-2.06-.94-.94-2.06-.94 2.06-2.06.94zm-11 1L8.5 8.5l.94-2.06 2.06-.94-2.06-.94L8.5 2.5l-.94 2.06-2.06.94zm10 10l.94 2.06.94-2.06 2.06-.94-2.06-.94-.94-2.06-.94 2.06-2.06.94z\"/><path d=\"M17.41 7.96l-1.37-1.37c-.4-.4-.92-.59-1.43-.59-.52 0-1.04.2-1.43.59L10.3 9.45l-7.72 7.72c-.78.78-.78 2.05 0 2.83L4 21.41c.39.39.9.59 1.41.59.51 0 1.02-.2 1.41-.59l7.78-7.78 2.81-2.81c.8-.78.8-2.07 0-2.86zM5.41 20L4 18.59l7.72-7.72 1.47 1.35L5.41 20z\"/>\n",
              "  </svg>\n",
              "      </button>\n",
              "      \n",
              "  <style>\n",
              "    .colab-df-container {\n",
              "      display:flex;\n",
              "      flex-wrap:wrap;\n",
              "      gap: 12px;\n",
              "    }\n",
              "\n",
              "    .colab-df-convert {\n",
              "      background-color: #E8F0FE;\n",
              "      border: none;\n",
              "      border-radius: 50%;\n",
              "      cursor: pointer;\n",
              "      display: none;\n",
              "      fill: #1967D2;\n",
              "      height: 32px;\n",
              "      padding: 0 0 0 0;\n",
              "      width: 32px;\n",
              "    }\n",
              "\n",
              "    .colab-df-convert:hover {\n",
              "      background-color: #E2EBFA;\n",
              "      box-shadow: 0px 1px 2px rgba(60, 64, 67, 0.3), 0px 1px 3px 1px rgba(60, 64, 67, 0.15);\n",
              "      fill: #174EA6;\n",
              "    }\n",
              "\n",
              "    [theme=dark] .colab-df-convert {\n",
              "      background-color: #3B4455;\n",
              "      fill: #D2E3FC;\n",
              "    }\n",
              "\n",
              "    [theme=dark] .colab-df-convert:hover {\n",
              "      background-color: #434B5C;\n",
              "      box-shadow: 0px 1px 3px 1px rgba(0, 0, 0, 0.15);\n",
              "      filter: drop-shadow(0px 1px 2px rgba(0, 0, 0, 0.3));\n",
              "      fill: #FFFFFF;\n",
              "    }\n",
              "  </style>\n",
              "\n",
              "      <script>\n",
              "        const buttonEl =\n",
              "          document.querySelector('#df-b625c97a-74ab-4b87-a5f0-0b721f33511f button.colab-df-convert');\n",
              "        buttonEl.style.display =\n",
              "          google.colab.kernel.accessAllowed ? 'block' : 'none';\n",
              "\n",
              "        async function convertToInteractive(key) {\n",
              "          const element = document.querySelector('#df-b625c97a-74ab-4b87-a5f0-0b721f33511f');\n",
              "          const dataTable =\n",
              "            await google.colab.kernel.invokeFunction('convertToInteractive',\n",
              "                                                     [key], {});\n",
              "          if (!dataTable) return;\n",
              "\n",
              "          const docLinkHtml = 'Like what you see? Visit the ' +\n",
              "            '<a target=\"_blank\" href=https://colab.research.google.com/notebooks/data_table.ipynb>data table notebook</a>'\n",
              "            + ' to learn more about interactive tables.';\n",
              "          element.innerHTML = '';\n",
              "          dataTable['output_type'] = 'display_data';\n",
              "          await google.colab.output.renderOutput(dataTable, element);\n",
              "          const docLink = document.createElement('div');\n",
              "          docLink.innerHTML = docLinkHtml;\n",
              "          element.appendChild(docLink);\n",
              "        }\n",
              "      </script>\n",
              "    </div>\n",
              "  </div>\n",
              "  "
            ]
          },
          "metadata": {},
          "execution_count": 68
        }
      ]
    },
    {
      "cell_type": "markdown",
      "source": [
        "# 시각화"
      ],
      "metadata": {
        "id": "8emzwYUfKdRU"
      }
    },
    {
      "cell_type": "code",
      "source": [
        "#한글 폰트 설치\n",
        "!apt-get update -qq\n",
        "!apt-get install fonts-nanum* -qq"
      ],
      "metadata": {
        "id": "2yI4pNWKQXIo"
      },
      "execution_count": 73,
      "outputs": []
    },
    {
      "cell_type": "code",
      "source": [
        "!sudo apt-get install -y fonts-nanum\n",
        "!sudo fc-cache -fv\n",
        "!rm ~/.cache/matplotlib -rf"
      ],
      "metadata": {
        "colab": {
          "base_uri": "https://localhost:8080/"
        },
        "id": "MzQ-WiD_QXjB",
        "outputId": "4f346c50-ee81-4653-8e9f-660314b43451"
      },
      "execution_count": 45,
      "outputs": [
        {
          "output_type": "stream",
          "name": "stdout",
          "text": [
            "Reading package lists... Done\n",
            "Building dependency tree       \n",
            "Reading state information... Done\n",
            "fonts-nanum is already the newest version (20180306-3).\n",
            "0 upgraded, 0 newly installed, 0 to remove and 34 not upgraded.\n",
            "/usr/share/fonts: caching, new cache contents: 0 fonts, 1 dirs\n",
            "/usr/share/fonts/truetype: caching, new cache contents: 0 fonts, 3 dirs\n",
            "/usr/share/fonts/truetype/humor-sans: caching, new cache contents: 1 fonts, 0 dirs\n",
            "/usr/share/fonts/truetype/liberation: caching, new cache contents: 16 fonts, 0 dirs\n",
            "/usr/share/fonts/truetype/nanum: caching, new cache contents: 31 fonts, 0 dirs\n",
            "/usr/local/share/fonts: caching, new cache contents: 0 fonts, 0 dirs\n",
            "/root/.local/share/fonts: skipping, no such directory\n",
            "/root/.fonts: skipping, no such directory\n",
            "/usr/share/fonts/truetype: skipping, looped directory detected\n",
            "/usr/share/fonts/truetype/humor-sans: skipping, looped directory detected\n",
            "/usr/share/fonts/truetype/liberation: skipping, looped directory detected\n",
            "/usr/share/fonts/truetype/nanum: skipping, looped directory detected\n",
            "/var/cache/fontconfig: cleaning cache directory\n",
            "/root/.cache/fontconfig: not cleaning non-existent cache directory\n",
            "/root/.fontconfig: not cleaning non-existent cache directory\n",
            "fc-cache: succeeded\n"
          ]
        }
      ]
    },
    {
      "cell_type": "code",
      "source": [
        "import matplotlib as mpl\n",
        "import matplotlib.pyplot as plt\n",
        "import matplotlib.font_manager as fm\n",
        "\n",
        "plt.rc(\"font\",family=\"NanumGothic\")\n",
        "mpl.rcParams['axes.unicode_minus'] = False\n",
        "\n",
        "df['SDATE'] = pd.to_datetime(df['SDATE'])\n",
        "df['VALUE'] = pd.to_numeric(df['VALUE'], downcast= 'float')\n",
        "fig = plt.figure(figsize=(14,6))\n",
        "\n",
        "ax = plt.subplot(1,1,1)\n",
        "ax.plot(df['SDATE'],df['VALUE'],color='r',lw=1.5,alpha=0.7)\n",
        "ax.set_ylabel('측정수치(단위:ng/m3)', fontweight='bold',fontsize=12)\n",
        "ax.set_xlabel('시간(h)', fontweight='bold',fontsize=12)\n",
        "ax.set_title('2017년 12월 8일 미세먼지 (금속성분) 농도 데이터',fontweight='bold',fontsize=14)"
      ],
      "metadata": {
        "colab": {
          "base_uri": "https://localhost:8080/",
          "height": 585
        },
        "id": "QSxrBmZVKe7A",
        "outputId": "d71ec2ea-0283-4303-b029-82210410d980"
      },
      "execution_count": 71,
      "outputs": [
        {
          "output_type": "execute_result",
          "data": {
            "text/plain": [
              "Text(0.5, 1.0, '2017년 12월 8일 미세먼지 (금속성분) 농도 데이터')"
            ]
          },
          "metadata": {},
          "execution_count": 71
        },
        {
          "output_type": "display_data",
          "data": {
            "text/plain": [
              "<Figure size 1400x600 with 1 Axes>"
            ],
            "image/png": "[encoded data removed]"
          },
          "metadata": {}
        }
      ]
    }
  ]
}